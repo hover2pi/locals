{
 "cells": [
  {
   "cell_type": "markdown",
   "metadata": {},
   "source": [
    "# Abstract"
   ]
  },
  {
   "cell_type": "markdown",
   "metadata": {},
   "source": [
    "Create a SILO dataset from a combination of Build7 headers and test data for NIRCAM Grism data"
   ]
  },
  {
   "cell_type": "markdown",
   "metadata": {},
   "source": [
    "# Environment"
   ]
  },
  {
   "cell_type": "code",
   "execution_count": 1,
   "metadata": {
    "collapsed": true
   },
   "outputs": [],
   "source": [
    "from glob import glob\n",
    "from itertools import count\n",
    "from os import path\n",
    "from shutil import copy2\n",
    "from astropy.io import fits"
   ]
  },
  {
   "cell_type": "code",
   "execution_count": 2,
   "metadata": {
    "collapsed": true
   },
   "outputs": [],
   "source": [
    "from jwst.associations import load_asn\n",
    "from jwst import datamodels\n",
    "from jwst.exp_to_source import exp_to_source\n",
    "import json"
   ]
  },
  {
   "cell_type": "markdown",
   "metadata": {},
   "source": [
    "# Main - Association information"
   ]
  },
  {
   "cell_type": "code",
   "execution_count": 3,
   "metadata": {
    "collapsed": false
   },
   "outputs": [
    {
     "name": "stdout",
     "output_type": "stream",
     "text": [
      "/grp/jwst/ssb/test_build7.1/examples_for_dms/level2/nrc_grism\r\n"
     ]
    }
   ],
   "source": [
    "# This is the directory for 7.1\n",
    "test_dir = '/grp/jwst/ssb/test_build7.1/examples_for_dms/level2/nrc_grism'\n",
    "!cd /grp/jwst/ssb/test_build7.1/examples_for_dms/level2/nrc_grism\n",
    "!pwd"
   ]
  },
  {
   "cell_type": "code",
   "execution_count": 4,
   "metadata": {
    "collapsed": false
   },
   "outputs": [
    {
     "data": {
      "text/plain": [
       "{'asn_pool': 'dummy',\n",
       " 'asn_rule': 'DMSLevel2bBase',\n",
       " 'asn_type': 'None',\n",
       " 'code_version': '0.7.1.beta5',\n",
       " 'products': [{'members': [{'expname': 'dispersed_ramp_from_test.fits',\n",
       "     'exptype': 'SCIENCE'},\n",
       "    {'expname': 'test_disperse_f335m_rate_updated_bboxradecskybox_short.ecsv',\n",
       "     'exptype': 'sourcecat'}],\n",
       "   'name': 'test_disperse_f335m'}],\n",
       " 'program': 'none',\n",
       " 'target': 'singleton',\n",
       " 'version_id': None}"
      ]
     },
     "execution_count": 4,
     "metadata": {},
     "output_type": "execute_result"
    }
   ],
   "source": [
    "# starting file\n",
    "asn_startname = 'nircam_grism_asn.json'\n",
    "asn_data = load_asn(open(asn_startname, 'r'))\n",
    "asn_data"
   ]
  },
  {
   "cell_type": "code",
   "execution_count": 5,
   "metadata": {
    "collapsed": false
   },
   "outputs": [
    {
     "name": "stdout",
     "output_type": "stream",
     "text": [
      "Filename: dispersed_ramp_from_test.fits\n",
      "No.    Name      Ver    Type      Cards   Dimensions   Format\n",
      "  0  PRIMARY       1 PrimaryHDU     170   ()      \n",
      "  1  SCI           1 ImageHDU        44   (2048, 2048)   float32   \n",
      "  2  DQ            1 ImageHDU        11   (2048, 2048)   int32 (rescales to uint32)   \n",
      "  3  ERR           1 ImageHDU         9   (2048, 2048)   float32   \n",
      "  4  ZEROFRAME     1 ImageHDU         9   (2048, 2048)   float32   \n",
      "  5  AREA          1 ImageHDU         9   (2048, 2048)   float32   \n",
      "  6  RELSENS       1 BinTableHDU     14   0R x 2C   [D, D]   \n",
      "  7  RELSENS2D     1 ImageHDU         9   (2048, 2048)   float32   \n",
      "  8  WAVELENGTH    1 ImageHDU         9   (2048, 2048)   float32   \n",
      "  9  PATHLOSS_POINTSOURCE    1 ImageHDU         8   (2048,)   float32   \n",
      " 10  WAVELENGTH_POINTSOURCE    1 ImageHDU         8   (2048,)   float32   \n",
      " 11  PATHLOSS_UNIFORMSOURCE    1 ImageHDU         8   (2048,)   float32   \n",
      " 12  WAVELENGTH_UNIFORMSOURCE    1 ImageHDU         8   (2048,)   float32   \n",
      " 13  ASDF          1 ImageHDU         7   (6862,)   uint8   \n"
     ]
    }
   ],
   "source": [
    "grism_name = asn_data['products'][0]['members'][0]['expname']\n",
    "grism_fits = fits.open(grism_name)\n",
    "grism_fits.info()"
   ]
  },
  {
   "cell_type": "code",
   "execution_count": 7,
   "metadata": {
    "collapsed": false
   },
   "outputs": [
    {
     "name": "stdout",
     "output_type": "stream",
     "text": [
      "Filename: jw94015001002_02104_00001_nrcalong_rate.fits\n",
      "No.    Name      Ver    Type      Cards   Dimensions   Format\n",
      "  0  PRIMARY       1 PrimaryHDU     255   ()      \n",
      "  1  SCI           1 ImageHDU        48   (2048, 2048)   float32   \n",
      "  2  ERR           1 ImageHDU        10   (2048, 2048)   float32   \n",
      "  3  DQ            1 ImageHDU        11   (2048, 2048)   int32 (rescales to uint32)   \n",
      "  4  VAR_POISSON    1 ImageHDU         9   (2048, 2048)   float32   \n",
      "  5  VAR_RNOISE    1 ImageHDU         9   (2048, 2048)   float32   \n",
      "  6  ASDF          1 ImageHDU         7   (6175,)   uint8   \n"
     ]
    }
   ],
   "source": [
    "# Look at the example level2a image\n",
    "l2a_example_name = 'jw94015001002_02104_00001_nrcalong_rate.fits'\n",
    "l2a_example = fits.open(l2a_example_name)\n",
    "l2a_example.info()"
   ]
  },
  {
   "cell_type": "markdown",
   "metadata": {},
   "source": [
    "### File naming conventions\n",
    "#### https://jwst-docs.stsci.edu/display/JDAT/File+Naming+Conventions+and+Data+Products\n",
    "The names of the exposure level data is constructed with information from the science header of the exposure, allowing users to map it to the observation in ther corresponding APT files:\n",
    "\n",
    "    jw<PPPPP><OOO><VVV>_<GGSAA>_<EEEEE>_<detector >_<suffix> .fits\n",
    "\n",
    "    PPPPP = Program ID\n",
    "    OOO = Observation number\n",
    "    VVV = Visit number\n",
    "    GG = Visit Group\n",
    "    S = Parallel Sequence id (1 prime, 2-5 parallel)\n",
    "    AA = Activity number (base 36)\n",
    "    EEEEE = Exposure number\n",
    "    <detector> = detector name; e.g. nrca1, nrclong, mirimage\n",
    "    <sufix> = product type; e.g. uncal, rate\n"
   ]
  },
  {
   "cell_type": "code",
   "execution_count": 9,
   "metadata": {
    "collapsed": true
   },
   "outputs": [],
   "source": [
    "# copy over the data from the simulated image to the example image\n",
    "l2a_example['SCI'].data = grism_fits['SCI'].data\n",
    "l2a_example['DQ'].data = grism_fits['DQ'].data\n",
    "l2a_example['ERR'].data = grism_fits['ERR'].data\n",
    "\n",
    "# create a new standard name for the updated test file\n",
    "newname = 'jw11111001001_01104_00001_nrcalong_rate.fits'\n",
    "l2a_example[0].header['filename'] = newname\n",
    "l2a_example.verify('fix')\n",
    "l2a_example.writeto(newname, overwrite=True)\n",
    "l2a_example.close()"
   ]
  },
  {
   "cell_type": "code",
   "execution_count": 10,
   "metadata": {
    "collapsed": true
   },
   "outputs": [],
   "source": [
    "# now finish updating the new image\n",
    "l2a = fits.open(newname, mode='update')"
   ]
  },
  {
   "cell_type": "code",
   "execution_count": 11,
   "metadata": {
    "collapsed": false
   },
   "outputs": [
    {
     "name": "stdout",
     "output_type": "stream",
     "text": [
      " Headers have different number of cards:\n",
      "  a: 38\n",
      "  b: 42\n",
      " Extra keyword 'BUNIT'  in b: 'DN/s'\n",
      " Extra keyword 'PA_APER' in b: 0.0\n",
      " Extra keyword 'S_REGION' in b: 'POLYGON ICRS  80.53853031592796 -69.35531484211675 80.43565889909475 -69.35557881776934 80.43669256854682 -69.3194285544607 80.53697234769284 -69.31943727146422'\n",
      " Extra keyword 'VA_SCALE' in b: 1.000000033314531\n",
      " Keyword CDELT1   has different values:\n",
      "    a> -8.6513888888888e-06\n",
      "    b> 1.74460027777777e-05\n",
      " Keyword CDELT1   has different comments:\n",
      "    a> first axis increment per pixel (deg)\n",
      "     ?                               ------\n",
      "    b> first axis increment per pixel\n",
      " Keyword CDELT2   has different values:\n",
      "    a> 8.70374999999998e-06\n",
      "    b> 1.75306861111111e-05\n",
      " Keyword CDELT2   has different comments:\n",
      "    a> second axis increment per pixel (deg)\n",
      "     ?                                ------\n",
      "    b> second axis increment per pixel\n",
      " Keyword CRVAL1   has different values:\n",
      "    a> 0.0\n",
      "    b> 80.4875\n",
      " Keyword CRVAL1   has different comments:\n",
      "    a> RA at the reference pixel (deg)\n",
      "    b> first axis value at the reference pixel\n",
      " Keyword CRVAL2   has different values:\n",
      "    a> 0.0\n",
      "    b> -69.49833333333333\n",
      " Keyword CRVAL2   has different comments:\n",
      "    a> Dec at the reference pixel (deg)\n",
      "    b> second axis value at the reference pixel\n",
      " Keyword CTYPE1   has different values:\n",
      "    a> RA--TAN\n",
      "    b> RA---TAN\n",
      "     ?   +\n",
      " Keyword DEC_REF  has different values:\n",
      "    a> 0.0\n",
      "    b> -69.49833333333333\n",
      " Keyword DEC_V1   has different values:\n",
      "    a> 0.0\n",
      "    b> -69.49833333333333\n",
      " Keyword PC1_1    has different values:\n",
      "    a> 1.0\n",
      "    b> -1.0\n",
      "     ? +\n",
      " Keyword RA_REF   has different values:\n",
      "    a> 0.0\n",
      "    b> 80.4875\n",
      " Keyword RA_V1    has different values:\n",
      "    a> 0.0\n",
      "    b> 80.4875\n",
      " Keyword ROLL_REF has different values:\n",
      "    a> 0.0\n",
      "    b> 359.9356232229689\n",
      " Keyword V2_REF   has different values:\n",
      "    a> 120.671376\n",
      "    b> 86.103458\n",
      " Keyword V3I_YANG has different values:\n",
      "    a> -0.573843\n",
      "    b> -0.089504\n",
      " Keyword V3_REF   has different values:\n",
      "    a> -527.387665\n",
      "    b> -493.227512\n",
      "\n"
     ]
    }
   ],
   "source": [
    "diff= fits.diff.HeaderDiff(grism_fits['SCI'].header, l2a['SCI'].header)\n",
    "print(diff.report())"
   ]
  },
  {
   "cell_type": "code",
   "execution_count": 12,
   "metadata": {
    "collapsed": true
   },
   "outputs": [],
   "source": [
    "# move wcs keywords\n",
    "wcs = ['CRPIX1', 'CRPIX2', 'CDELT1', 'CDELT2', 'CRVAL1', 'CRVAL2', 'DEC_REF', 'DEC_V1', 'PC1_1', 'RA_REF', 'RA_V1', 'ROLL_REF','V2_REF', 'V3I_YANG', 'V3_REF']\n",
    "for k in wcs:\n",
    "    l2a['SCI'].header[k] = grism_fits['SCI'].header[k]"
   ]
  },
  {
   "cell_type": "code",
   "execution_count": 13,
   "metadata": {
    "collapsed": false,
    "scrolled": true
   },
   "outputs": [
    {
     "name": "stdout",
     "output_type": "stream",
     "text": [
      " Headers have different number of cards:\n",
      "  a: 201\n",
      "  b: 132\n",
      " Extra keyword 'APERNAME' in a: 'NRCA5_FULL'\n",
      " Extra keyword 'BARTDELT' in a: 78.31810454372317\n",
      " Extra keyword 'BENDTIME' in a: 57410.63556227637\n",
      " Extra keyword 'BKGDTARG' in a: False\n",
      " Extra keyword 'BMIDTIME' in a: 57410.63518946309\n",
      " Extra keyword 'BSTRTIME' in a: 57410.63481664982\n",
      " Extra keyword 'CAL_VCS' in a: 'c4224ab6'\n",
      " Extra keyword 'COMMENT' in a: '/ Program information'\n",
      " Extra keyword 'COMPRSSD' in a: False\n",
      " Extra keyword 'CORONMSK' in a: 'NONE'\n",
      " Extra keyword 'DATAPROB' in a: False\n",
      " Extra keyword 'DATE-END' in a: '2016-01-23'\n",
      " Extra keyword 'DRPFRMS1' in a: 0\n",
      " Extra keyword 'DRPFRMS3' in a: 0\n",
      " Extra keyword 'DVA_DEC' in a: -1.7660554078774e-07\n",
      " Extra keyword 'DVA_RA' in a: -2.1064958141811e-07\n",
      " Extra keyword 'ENG_QUAL' in a: 'SUSPECT'\n",
      " Extra keyword 'EPH_TIME' in a: 57410.6340278\n",
      " Extra keyword 'EPH_TYPE' in a: 'Predicted'\n",
      " Extra keyword 'EXPCOUNT' in a: 4\n",
      " Extra keyword 'EXPRIPAR' in a: 'PRIME'\n",
      " Extra keyword 'FRMDIVSR' in a: 1\n",
      " Extra keyword 'GDSTARID' in a: ''\n",
      " Extra keyword 'GSENDTIM' in a: '1999-01-01 00:00:00'\n",
      " Extra keyword 'GSSTRTTM' in a: '1999-01-01 00:00:00'\n",
      " Extra keyword 'GS_DEC' in a: 0.0\n",
      " Extra keyword 'GS_MAG' in a: 0.0\n",
      " Extra keyword 'GS_ORDER' in a: 0\n",
      " Extra keyword 'GS_RA'  in a: 0.0\n",
      " Extra keyword 'GS_UDEC' in a: 0.0\n",
      " Extra keyword 'GS_UMAG' in a: 0.0\n",
      " Extra keyword 'GS_URA' in a: 0.0\n",
      " Extra keyword 'HELIDELT' in a: 78.72855733148754\n",
      " Extra keyword 'HENDTIME' in a: 57410.63556702698\n",
      " Extra keyword 'HGA_MOVE' in a: False\n",
      " Extra keyword 'HMIDTIME' in a: 57410.63519421371\n",
      " Extra keyword 'HSTRTIME' in a: 57410.63482140043\n",
      " Extra keyword 'INTARGET' in a: False\n",
      " Extra keyword 'JWST_DX' in a: 0.0141960319172781\n",
      " Extra keyword 'JWST_DY' in a: -0.0491150600181007\n",
      " Extra keyword 'JWST_DZ' in a: -0.0278980304450293\n",
      " Extra keyword 'JWST_X' in a: -1470692.57441224\n",
      " Extra keyword 'JWST_Y' in a: -656975.763391395\n",
      " Extra keyword 'JWST_Z' in a: -600864.338590464\n",
      " Extra keyword 'LAMP'   in a: ''\n",
      " Extra keyword 'MU_DEC' in a: 0.0\n",
      " Extra keyword 'MU_EPOCH' in a: '2000-01-01 00:00:00.00'\n",
      " Extra keyword 'MU_RA'  in a: 0.0\n",
      " Extra keyword 'NEXPOSUR' in a: 6\n",
      " Extra keyword 'NEXTEND' in a: 2\n",
      " Extra keyword 'NSAMPLES' in a: 1\n",
      " Extra keyword 'OBSLABEL' in a: 'DIL-M31-1: NIRCam'\n",
      " Extra keyword 'PCS_MODE' in a: 'FINEGUIDE'\n",
      " Extra keyword 'PILIN'  in a: False\n",
      " Extra keyword 'PNTG_SEQ' in a: 1\n",
      " Extra keyword 'PPS_APER' in a: 'NRCALL_FULL'\n",
      " Extra keyword 'PROGRAM' in a: '94015'\n",
      " Extra keyword 'PROP_DEC' in a: -69.49833333333333\n",
      " Extra keyword 'PROP_RA' in a: 80.48749999999998\n",
      " Extra keyword 'REFFRAME' in a: 'EME2000'\n",
      " Extra keyword 'R_PERSAT' in a: 'crds://jwst_nircam_persat_0003.fits'\n",
      " Extra keyword 'R_TRPDEN' in a: 'crds://jwst_nircam_trapdensity_0004.fits'\n",
      " Extra keyword 'R_TRPPAR' in a: 'crds://jwst_nircam_trappars_0002.fits'\n",
      " Extra keyword 'SCA_NUM' in a: 485\n",
      " Extra keyword 'SDP_VER' in a: '2017_1'\n",
      " Extra keyword 'S_GANSCL' in a: 'SKIPPED'\n",
      " Extra keyword 'S_GRPSCL' in a: 'SKIPPED'\n",
      " Extra keyword 'S_PERSIS' in a: 'COMPLETE'\n",
      " Extra keyword 'TARGOOPP' in a: False\n",
      " Extra keyword 'TARGPROP' in a: 'DIL-M31-1'\n",
      " Extra keyword 'TARGTYPE' in a: 'FIXED'\n",
      " Extra keyword 'TARGUDEC' in a: 0.1\n",
      " Extra keyword 'TARGURA' in a: 0.1\n",
      " Extra keyword 'TEMPLATE' in a: 'NIRCam Imaging'\n",
      " Extra keyword 'TIME-END' in a: ' 15:13:54.261'\n",
      " Extra keyword 'TIMESYS' in a: 'UTC'\n",
      " Extra keyword 'TSOVISIT' in a: False\n",
      " Extra keyword 'VISITEND' in a: '2016-01-23 15:27:16.8220000'\n",
      " Extra keyword 'VISITSTA' in a: 'SUCCESSFUL'\n",
      " Extra keyword 'VISITYPE' in a: 'PRIME_TARGETED_FIXED'\n",
      " Extra keyword 'VISIT_ID' in a: '94015001002'\n",
      " Extra keyword 'VSTSTART' in a: '2016-01-23 14:54:01.0460000'\n",
      " Extra keyword 'XOFFSET' in a: 6.06642408737534e-08\n",
      " Extra keyword 'YOFFSET' in a: 60.03440830483601\n",
      " Extra keyword 'ZEROFRAM' in a: False\n",
      " Extra keyword 'CAL_SVN' in b: '75d0b530'\n",
      " Extra keyword 'CDELT1' in b: -8.6513888888888e-06\n",
      " Extra keyword 'CDELT2' in b: 8.70374999999998e-06\n",
      " Extra keyword 'COORDSYS' in b: 'FGS1_1'\n",
      " Extra keyword 'CRPIX1' in b: 1024.5\n",
      " Extra keyword 'CRPIX2' in b: 1024.5\n",
      " Extra keyword 'CRVAL1' in b: 0.0\n",
      " Extra keyword 'CRVAL2' in b: 0.0\n",
      " Extra keyword 'CTYPE1' in b: 'RA--TAN'\n",
      " Extra keyword 'CTYPE2' in b: 'DEC--TAN'\n",
      " Extra keyword 'CUNIT1' in b: 'deg'\n",
      " Extra keyword 'CUNIT2' in b: 'deg'\n",
      " Extra keyword 'DEC_REF' in b: 0.0\n",
      " Extra keyword 'DEC_V1' in b: 0.0\n",
      " Extra keyword 'PATTSIZE' in b: 0.0\n",
      " Extra keyword 'PA_V3'  in b: 0\n",
      " Extra keyword 'PC1_1'  in b: 1.0\n",
      " Extra keyword 'PC1_2'  in b: -0.0\n",
      " Extra keyword 'PC2_1'  in b: 0.0\n",
      " Extra keyword 'PC2_2'  in b: 1.0\n",
      " Extra keyword 'RADESYS' in b: 'ICRS'\n",
      " Extra keyword 'RA_REF' in b: 0.0\n",
      " Extra keyword 'RA_V1'  in b: 0.0\n",
      " Extra keyword 'ROLL_REF' in b: 0.0\n",
      " Extra keyword 'SUBPXTYP' in b: 'UNKNOWN'\n",
      " Extra keyword 'V2_REF' in b: 120.671376\n",
      " Extra keyword 'V3I_YANG' in b: -0.573843\n",
      " Extra keyword 'V3_REF' in b: -527.387665\n",
      " Extra keyword 'VPARITY' in b: -1\n",
      " Extra keyword 'WCSAXES' in b: 2\n",
      " Inconsistent duplicates of keyword ''      :\n",
      "  Occurs 27 time(s) in a, 19 times in (b)\n",
      " Keyword         [2] has different values:\n",
      "    a> Program information\n",
      "    b> Basic information\n",
      " Keyword         [3] has different values:\n",
      "    a> Observation identifiers\n",
      "    b> Programmatic information\n",
      " Keyword         [4] has different values:\n",
      "    a> Visit information\n",
      "    b> Observation identifiers\n",
      " Keyword         [10] has different values:\n",
      "    a> JWST ephemeris information\n",
      "    b> Reference file information\n",
      " Keyword         [11] has different values:\n",
      "    a> Aperture information\n",
      "    b> CRDS parameters\n",
      " Keyword         [12] has different values:\n",
      "    a> Velocity aberration correction information\n",
      "    b> Dark reference file information\n",
      " Keyword         [13] has different values:\n",
      "    a> Time information\n",
      "    b> Gain reference file information\n",
      " Keyword         [14] has different values:\n",
      "    a> Guide star information\n",
      "    b> Linearity reference file information\n",
      " Keyword         [15] has different values:\n",
      "    a> Reference file information\n",
      "     ? ^\n",
      "    b> Mask reference file information\n",
      "     ? ^^^^^^\n",
      " Keyword         [16] has different values:\n",
      "    a> CRDS parameters\n",
      "    b> Read noise reference file information\n",
      " Keyword         [17] has different values:\n",
      "    a> Dark reference file information\n",
      "     ? ^  ^\n",
      "    b> Saturation reference file information\n",
      "     ? ^ ++ ^^^^^\n",
      " Keyword         [18] has different values:\n",
      "    a> Gain reference file information\n",
      "     ? ^ ^^\n",
      "    b> Superbias reference file information\n",
      "     ? ^^^^^^^ ^\n",
      " Keyword         [19] has different values:\n",
      "    a> Linearity reference file information\n",
      "    b> Calibration step information\n",
      " Keyword ACT_ID   has different values:\n",
      "    a> 04\n",
      "    b> 0\n",
      " Keyword CAL_VER  has different values:\n",
      "    a> 0.7.8rc9\n",
      "    b> 0.7.7\n",
      " Keyword CATEGORY has different values:\n",
      "    a> ENG\n",
      "    b> UNKNOWN\n",
      " Keyword CRDS_CTX has different values:\n",
      "    a> jwst_0422.pmap\n",
      "     ?       ^^^\n",
      "    b> jwst_0311.pmap\n",
      "     ?       ^^^\n",
      " Keyword CRDS_VER has different values:\n",
      "    a> 7.1.7\n",
      "     ?     ^\n",
      "    b> 7.1.0\n",
      "     ?     ^\n",
      " Keyword DATAMODE has different values:\n",
      "    a> 32\n",
      "    b> 33\n",
      " Keyword DATE     has different values:\n",
      "    a> 2017-11-14T11:56:17.082\n",
      "    b> 2017-10-02T10:55:02.090\n",
      " Keyword DATE     has different comments:\n",
      "    a> Date this file was created [UTC]\n",
      "     ?                            ^   ^\n",
      "    b> Date this file was created (UTC)\n",
      "     ?                            ^   ^\n",
      " Keyword DATE-OBS has different values:\n",
      "    a> 2016-01-23\n",
      "    b> 2017-03-21\n",
      " Keyword DURATION has different values:\n",
      "    a> 64.42056000000001\n",
      "    b> 128.84112\n",
      " Keyword EFFEXPTM has different values:\n",
      "    a> 53.684\n",
      "    b> 107.3676\n",
      " Keyword EFFINTTM has different values:\n",
      "    a> 53.68380000000001\n",
      "    b> 107.3676\n",
      " Keyword EXPEND   has different values:\n",
      "    a> 57410.63465579861\n",
      "    b> 57833.63227263586\n",
      " Keyword EXPMID   has different values:\n",
      "    a> 57410.63428299445\n",
      "    b> 57833.63165129558\n",
      " Keyword EXPOSURE has different values:\n",
      "    a> 1\n",
      "    b> 0\n",
      " Keyword EXPSTART has different values:\n",
      "    a> 57410.63391019028\n",
      "    b> 57833.6310299553\n",
      " Keyword EXP_TYPE has different values:\n",
      "    a> NRC_IMAGE\n",
      "    b> NRC_GRISM\n",
      " Keyword FILENAME has different values:\n",
      "    a> jw11111001001_01104_00001_nrcalong_rate.fits\n",
      "    b> dispersed_ramp_from_test.fits\n",
      " Keyword FILETYPE has different values:\n",
      "    a> uncalibrated\n",
      "    b> raw\n",
      " Keyword FILTER   has different values:\n",
      "    a> F356W\n",
      "    b> F360M\n",
      " Keyword GROUPGAP has different values:\n",
      "    a> 1\n",
      "    b> 0\n",
      " Keyword NGROUPS  has different values:\n",
      "    a> 3\n",
      "    b> 10\n",
      " Keyword NRSTSTRT has different values:\n",
      "    a> 1\n",
      "    b> 2\n",
      " Keyword NUMDTHPT has different values:\n",
      "    a> 0\n",
      "    b> 1\n",
      " Keyword OBSERVTN has different values:\n",
      "    a> 001\n",
      "    b> 0\n",
      " Keyword OBS_ID   has different values:\n",
      "    a> V94015001002P0000000002104\n",
      "    b> 0\n",
      " Keyword ORIGIN   has different values:\n",
      "    a> STSCI\n",
      "     ?    ^\n",
      "    b> STScI\n",
      "     ?    ^\n",
      " Keyword PATT_NUM has different values:\n",
      "    a> 0\n",
      "    b> 1\n",
      " Keyword PI_NAME  has different values:\n",
      "    a> N/A\n",
      "    b> UNKNOWN\n",
      " Keyword PRD_VER  has different values:\n",
      "    a> PRDOPSSOC-G-010\n",
      "    b> PRDITCIITS-L-052_PRDITCSC-L-012_PRDITCLOADS-A-020_PRDITCFLT-L-004_2A\n",
      " Keyword PRD_VER  has different comments:\n",
      "    a> S&OC PRD version number used in data processing\n",
      " Keyword PUPIL    has different values:\n",
      "    a> CLEAR\n",
      "    b> GRISMR\n",
      " Keyword READPATT has different values:\n",
      "    a> BRIGHT1\n",
      "    b> RAPID\n",
      " Keyword R_DARK   has different values:\n",
      "    a> crds://jwst_nircam_dark_0043.fits\n",
      "     ?                            ^\n",
      "    b> crds://jwst_nircam_dark_0040.fits\n",
      "     ?                            ^\n",
      " Keyword R_GAIN   has different values:\n",
      "    a> crds://jwst_nircam_gain_0041.fits\n",
      "    b> /ifs/jwst/wit/witserv/data7/nrc/reference_files/SSB/CV3/cv3_reffile_conversion/gain/NRCA1_17004_Gain_ISIMCV3_2016-01-23_ssbgain_DMSorient.fits\n",
      " Keyword R_LINEAR has different values:\n",
      "    a> crds://jwst_nircam_linearity_0052.fits\n",
      "    b> /ifs/jwst/wit/witserv/data7/nrc/reference_files/SSB/CV3/cv3_reffile_conversion/linearity/NRCA1_17004_LinearityCoeff_ADU0_2016-05-14_ssblinearity_v2_DMSorient.fits\n",
      " Keyword R_LINEAR has different comments:\n",
      "    a> Linearity reference file na\n",
      "    b> Linearity reference file name\n",
      "     ?                            ++\n",
      " Keyword R_MASK   has different values:\n",
      "    a> crds://jwst_nircam_mask_0024.fits\n",
      "     ?                            ^\n",
      "    b> crds://jwst_nircam_mask_0026.fits\n",
      "     ?                            ^\n",
      " Keyword R_READNO has different values:\n",
      "    a> crds://jwst_nircam_readnoise_0022.fits\n",
      "    b> /ifs/jwst/wit/witserv/data7/nrc/reference_files/SSB/CV3/cv3_reffile_conversion/readnoise/NRCA1_17004_CDSNoise_ISIMCV3_ADU_2016-06-24_ssbreadnoise_DMSorient.fits\n",
      " Keyword R_READNO has different comments:\n",
      "    a> Read noise reference file n\n",
      "    b> Read noise reference file name\n",
      "     ?                            +++\n",
      " Keyword R_SATURA has different values:\n",
      "    a> crds://jwst_nircam_saturation_0063.fits\n",
      "    b> /ifs/jwst/wit/witserv/data7/nrc/reference_files/SSB/CV3/cv3_reffile_conversion/welldepth/NRCA1_17004_WellDepthADU_2016-03-10_ssbsaturation_wfact_DMSorient.fits\n",
      " Keyword R_SATURA has different comments:\n",
      "    a> Saturation reference file\n",
      "    b> Saturation reference file name\n",
      "     ?                          +++++\n",
      " Keyword R_SUPERB has different values:\n",
      "    a> crds://jwst_nircam_superbias_0022.fits\n",
      "    b> /ifs/jwst/wit/witserv/data4/nrc/hilbert/superbias/cv3/A1/A1_superbias_from_list_of_biasfiles.list.fits\n",
      " Keyword R_SUPERB has different comments:\n",
      "    a> Superbias reference file na\n",
      "    b> Superbias reference file name\n",
      "     ?                            ++\n",
      " Keyword SCICAT   has different values:\n",
      "    b> UNKNOWN\n",
      " Keyword SEQ_ID   has different values:\n",
      "    a> 1\n",
      "    b> 0\n",
      " Keyword SUBCAT   has different values:\n",
      "    b> UNKNOWN\n",
      " Keyword SUBPXNUM has different values:\n",
      "    a> 0\n",
      "    b> 1\n",
      " Keyword SUBPXPNS has different values:\n",
      "    a> 0\n",
      "    b> 1\n",
      " Keyword TARGNAME has different values:\n",
      "    b> UNKOWN\n",
      " Keyword TARG_DEC has different values:\n",
      "    a> -69.49833333333333\n",
      "    b> 0.0\n",
      " Keyword TARG_RA  has different values:\n",
      "    a> 80.4875\n",
      "    b> 0.0\n",
      " Keyword TGROUP   has different values:\n",
      "    a> 21.47352\n",
      "    b> 10.73676\n",
      " Keyword TIME-OBS has different values:\n",
      "    a>  15:12:49.840\n",
      "    b> 15:06:31.147\n",
      " Keyword TITLE    has different values:\n",
      "    a> 94010-for-CV3DIL-renamed-94015-MIRI-Im-NIRCam-Im\n",
      "    b> UNKNOWN\n",
      " Keyword VISIT    has different values:\n",
      "    a> 002\n",
      "    b> 0\n",
      " Keyword VISITGRP has different values:\n",
      "    a> 02\n",
      "    b> 0\n",
      "\n"
     ]
    }
   ],
   "source": [
    "diff= fits.diff.HeaderDiff(l2a[0].header, grism_fits[0].header, ignore_blanks=True)\n",
    "print(diff.report())"
   ]
  },
  {
   "cell_type": "code",
   "execution_count": 14,
   "metadata": {
    "collapsed": false
   },
   "outputs": [
    {
     "data": {
      "text/plain": [
       "defaultdict(list,\n",
       "            {'': [None,\n",
       "              ('Program information', 'Basic information'),\n",
       "              ('Observation identifiers', 'Programmatic information'),\n",
       "              ('Visit information', 'Observation identifiers'),\n",
       "              None,\n",
       "              None,\n",
       "              None,\n",
       "              None,\n",
       "              None,\n",
       "              ('JWST ephemeris information', 'Reference file information'),\n",
       "              ('Aperture information', 'CRDS parameters'),\n",
       "              ('Velocity aberration correction information',\n",
       "               'Dark reference file information'),\n",
       "              ('Time information', 'Gain reference file information'),\n",
       "              ('Guide star information',\n",
       "               'Linearity reference file information'),\n",
       "              ('Reference file information',\n",
       "               'Mask reference file information'),\n",
       "              ('CRDS parameters', 'Read noise reference file information'),\n",
       "              ('Dark reference file information',\n",
       "               'Saturation reference file information'),\n",
       "              ('Gain reference file information',\n",
       "               'Superbias reference file information'),\n",
       "              ('Linearity reference file information',\n",
       "               'Calibration step information')],\n",
       "             'ACT_ID': [('04', '0')],\n",
       "             'CAL_VER': [('0.7.8rc9', '0.7.7')],\n",
       "             'CATEGORY': [('ENG', 'UNKNOWN')],\n",
       "             'CRDS_CTX': [('jwst_0422.pmap', 'jwst_0311.pmap')],\n",
       "             'CRDS_VER': [('7.1.7', '7.1.0')],\n",
       "             'DATAMODE': [(32, 33)],\n",
       "             'DATE': [('2017-11-14T11:56:17.082', '2017-10-02T10:55:02.090')],\n",
       "             'DATE-OBS': [('2016-01-23', '2017-03-21')],\n",
       "             'DURATION': [(64.42056000000001, 128.84112)],\n",
       "             'EFFEXPTM': [(53.684, 107.3676)],\n",
       "             'EFFINTTM': [(53.68380000000001, 107.3676)],\n",
       "             'EXPEND': [(57410.63465579861, 57833.63227263586)],\n",
       "             'EXPMID': [(57410.63428299445, 57833.63165129558)],\n",
       "             'EXPOSURE': [('1', '0')],\n",
       "             'EXPSTART': [(57410.63391019028, 57833.6310299553)],\n",
       "             'EXP_TYPE': [('NRC_IMAGE', 'NRC_GRISM')],\n",
       "             'FILENAME': [('jw11111001001_01104_00001_nrcalong_rate.fits',\n",
       "               'dispersed_ramp_from_test.fits')],\n",
       "             'FILETYPE': [('uncalibrated', 'raw')],\n",
       "             'FILTER': [('F356W', 'F360M')],\n",
       "             'GROUPGAP': [(1, 0)],\n",
       "             'NGROUPS': [(3, 10)],\n",
       "             'NRSTSTRT': [(1, 2)],\n",
       "             'NUMDTHPT': [(0, 1)],\n",
       "             'OBSERVTN': [('001', '0')],\n",
       "             'OBS_ID': [('V94015001002P0000000002104', '0')],\n",
       "             'ORIGIN': [('STSCI', 'STScI')],\n",
       "             'PATT_NUM': [(0, 1)],\n",
       "             'PI_NAME': [('N/A', 'UNKNOWN')],\n",
       "             'PRD_VER': [('PRDOPSSOC-G-010',\n",
       "               'PRDITCIITS-L-052_PRDITCSC-L-012_PRDITCLOADS-A-020_PRDITCFLT-L-004_2A')],\n",
       "             'PUPIL': [('CLEAR', 'GRISMR')],\n",
       "             'READPATT': [('BRIGHT1', 'RAPID')],\n",
       "             'R_DARK': [('crds://jwst_nircam_dark_0043.fits',\n",
       "               'crds://jwst_nircam_dark_0040.fits')],\n",
       "             'R_GAIN': [('crds://jwst_nircam_gain_0041.fits',\n",
       "               '/ifs/jwst/wit/witserv/data7/nrc/reference_files/SSB/CV3/cv3_reffile_conversion/gain/NRCA1_17004_Gain_ISIMCV3_2016-01-23_ssbgain_DMSorient.fits')],\n",
       "             'R_LINEAR': [('crds://jwst_nircam_linearity_0052.fits',\n",
       "               '/ifs/jwst/wit/witserv/data7/nrc/reference_files/SSB/CV3/cv3_reffile_conversion/linearity/NRCA1_17004_LinearityCoeff_ADU0_2016-05-14_ssblinearity_v2_DMSorient.fits')],\n",
       "             'R_MASK': [('crds://jwst_nircam_mask_0024.fits',\n",
       "               'crds://jwst_nircam_mask_0026.fits')],\n",
       "             'R_READNO': [('crds://jwst_nircam_readnoise_0022.fits',\n",
       "               '/ifs/jwst/wit/witserv/data7/nrc/reference_files/SSB/CV3/cv3_reffile_conversion/readnoise/NRCA1_17004_CDSNoise_ISIMCV3_ADU_2016-06-24_ssbreadnoise_DMSorient.fits')],\n",
       "             'R_SATURA': [('crds://jwst_nircam_saturation_0063.fits',\n",
       "               '/ifs/jwst/wit/witserv/data7/nrc/reference_files/SSB/CV3/cv3_reffile_conversion/welldepth/NRCA1_17004_WellDepthADU_2016-03-10_ssbsaturation_wfact_DMSorient.fits')],\n",
       "             'R_SUPERB': [('crds://jwst_nircam_superbias_0022.fits',\n",
       "               '/ifs/jwst/wit/witserv/data4/nrc/hilbert/superbias/cv3/A1/A1_superbias_from_list_of_biasfiles.list.fits')],\n",
       "             'SCICAT': [('', 'UNKNOWN')],\n",
       "             'SEQ_ID': [('1', '0')],\n",
       "             'SUBCAT': [('', 'UNKNOWN')],\n",
       "             'SUBPXNUM': [(0, 1)],\n",
       "             'SUBPXPNS': [(0, 1)],\n",
       "             'TARGNAME': [('', 'UNKOWN')],\n",
       "             'TARG_DEC': [(-69.49833333333333, 0.0)],\n",
       "             'TARG_RA': [(80.4875, 0.0)],\n",
       "             'TGROUP': [(21.47352, 10.73676)],\n",
       "             'TIME-OBS': [(' 15:12:49.840', '15:06:31.147')],\n",
       "             'TITLE': [('94010-for-CV3DIL-renamed-94015-MIRI-Im-NIRCam-Im',\n",
       "               'UNKNOWN')],\n",
       "             'VISIT': [('002', '0')],\n",
       "             'VISITGRP': [('02', '0')]})"
      ]
     },
     "execution_count": 14,
     "metadata": {},
     "output_type": "execute_result"
    }
   ],
   "source": [
    "# diff of the duplicate keywords only:\n",
    "diff.diff_keyword_values"
   ]
  },
  {
   "cell_type": "code",
   "execution_count": 15,
   "metadata": {
    "collapsed": true
   },
   "outputs": [],
   "source": [
    "# move over important primary header keywords\n",
    "mkeys = ['EXP_TYPE', 'INSTRUME', 'PUPIL', 'FILTER', 'MODULE', 'DETECTOR', 'CHANNEL']\n",
    "for k in mkeys:\n",
    "    l2a[0].header[k] = grism_fits[0].header[k]"
   ]
  },
  {
   "cell_type": "code",
   "execution_count": 17,
   "metadata": {
    "collapsed": false
   },
   "outputs": [
    {
     "data": {
      "text/plain": [
       "['CAL_SVN',\n",
       " 'CDELT1',\n",
       " 'CDELT2',\n",
       " 'COORDSYS',\n",
       " 'CRPIX1',\n",
       " 'CRPIX2',\n",
       " 'CRVAL1',\n",
       " 'CRVAL2',\n",
       " 'CTYPE1',\n",
       " 'CTYPE2',\n",
       " 'CUNIT1',\n",
       " 'CUNIT2',\n",
       " 'DEC_REF',\n",
       " 'DEC_V1',\n",
       " 'PATTSIZE',\n",
       " 'PA_V3',\n",
       " 'PC1_1',\n",
       " 'PC1_2',\n",
       " 'PC2_1',\n",
       " 'PC2_2',\n",
       " 'RADESYS',\n",
       " 'RA_REF',\n",
       " 'RA_V1',\n",
       " 'ROLL_REF',\n",
       " 'SUBPXTYP',\n",
       " 'V2_REF',\n",
       " 'V3I_YANG',\n",
       " 'V3_REF',\n",
       " 'VPARITY',\n",
       " 'WCSAXES']"
      ]
     },
     "execution_count": 17,
     "metadata": {},
     "output_type": "execute_result"
    }
   ],
   "source": [
    "# diff keywords is a 2-tuple, [0] = list of kw only in a, [1] = list of kw only in b\n",
    "diff.diff_keywords[1]  # should be mostly WCS keywords"
   ]
  },
  {
   "cell_type": "code",
   "execution_count": 18,
   "metadata": {
    "collapsed": false
   },
   "outputs": [
    {
     "data": {
      "text/plain": [
       "['APERNAME',\n",
       " 'BARTDELT',\n",
       " 'BENDTIME',\n",
       " 'BKGDTARG',\n",
       " 'BMIDTIME',\n",
       " 'BSTRTIME',\n",
       " 'CAL_VCS',\n",
       " 'COMMENT',\n",
       " 'COMPRSSD',\n",
       " 'CORONMSK',\n",
       " 'DATAPROB',\n",
       " 'DATE-END',\n",
       " 'DRPFRMS1',\n",
       " 'DRPFRMS3',\n",
       " 'DVA_DEC',\n",
       " 'DVA_RA',\n",
       " 'ENG_QUAL',\n",
       " 'EPH_TIME',\n",
       " 'EPH_TYPE',\n",
       " 'EXPCOUNT',\n",
       " 'EXPRIPAR',\n",
       " 'FRMDIVSR',\n",
       " 'GDSTARID',\n",
       " 'GSENDTIM',\n",
       " 'GSSTRTTM',\n",
       " 'GS_DEC',\n",
       " 'GS_MAG',\n",
       " 'GS_ORDER',\n",
       " 'GS_RA',\n",
       " 'GS_UDEC',\n",
       " 'GS_UMAG',\n",
       " 'GS_URA',\n",
       " 'HELIDELT',\n",
       " 'HENDTIME',\n",
       " 'HGA_MOVE',\n",
       " 'HMIDTIME',\n",
       " 'HSTRTIME',\n",
       " 'INTARGET',\n",
       " 'JWST_DX',\n",
       " 'JWST_DY',\n",
       " 'JWST_DZ',\n",
       " 'JWST_X',\n",
       " 'JWST_Y',\n",
       " 'JWST_Z',\n",
       " 'LAMP',\n",
       " 'MU_DEC',\n",
       " 'MU_EPOCH',\n",
       " 'MU_RA',\n",
       " 'NEXPOSUR',\n",
       " 'NEXTEND',\n",
       " 'NSAMPLES',\n",
       " 'OBSLABEL',\n",
       " 'PCS_MODE',\n",
       " 'PILIN',\n",
       " 'PNTG_SEQ',\n",
       " 'PPS_APER',\n",
       " 'PROGRAM',\n",
       " 'PROP_DEC',\n",
       " 'PROP_RA',\n",
       " 'REFFRAME',\n",
       " 'R_PERSAT',\n",
       " 'R_TRPDEN',\n",
       " 'R_TRPPAR',\n",
       " 'SCA_NUM',\n",
       " 'SDP_VER',\n",
       " 'S_GANSCL',\n",
       " 'S_GRPSCL',\n",
       " 'S_PERSIS',\n",
       " 'TARGOOPP',\n",
       " 'TARGPROP',\n",
       " 'TARGTYPE',\n",
       " 'TARGUDEC',\n",
       " 'TARGURA',\n",
       " 'TEMPLATE',\n",
       " 'TIME-END',\n",
       " 'TIMESYS',\n",
       " 'TSOVISIT',\n",
       " 'VISITEND',\n",
       " 'VISITSTA',\n",
       " 'VISITYPE',\n",
       " 'VISIT_ID',\n",
       " 'VSTSTART',\n",
       " 'XOFFSET',\n",
       " 'YOFFSET',\n",
       " 'ZEROFRAM']"
      ]
     },
     "execution_count": 18,
     "metadata": {},
     "output_type": "execute_result"
    }
   ],
   "source": [
    "diff.diff_keywords[0]  # additional keywords in the new example image"
   ]
  },
  {
   "cell_type": "code",
   "execution_count": 19,
   "metadata": {
    "collapsed": false
   },
   "outputs": [
    {
     "data": {
      "text/plain": [
       "(['BUNIT', 'PA_APER', 'S_REGION', 'VA_SCALE'], [])"
      ]
     },
     "execution_count": 19,
     "metadata": {},
     "output_type": "execute_result"
    }
   ],
   "source": [
    "# check the science extension\n",
    "diff= fits.diff.HeaderDiff(l2a['SCI'].header, grism_fits['SCI'].header)\n",
    "diff.diff_keywords"
   ]
  },
  {
   "cell_type": "code",
   "execution_count": 20,
   "metadata": {
    "collapsed": false
   },
   "outputs": [
    {
     "name": "stdout",
     "output_type": "stream",
     "text": [
      "()\n",
      "(['BUNIT'], [])\n"
     ]
    }
   ],
   "source": [
    "# check the dq extension\n",
    "diff= fits.diff.HeaderDiff(l2a['DQ'].header, grism_fits['DQ'].header)\n",
    "print(diff.diff_keywords)\n",
    "# check the err extension\n",
    "diff= fits.diff.HeaderDiff(l2a['ERR'].header, grism_fits['ERR'].header)\n",
    "print(diff.diff_keywords)"
   ]
  },
  {
   "cell_type": "code",
   "execution_count": 21,
   "metadata": {
    "collapsed": false
   },
   "outputs": [
    {
     "data": {
      "text/plain": [
       "{'asn_pool': 'dummy',\n",
       " 'asn_rule': 'DMSLevel2bBase',\n",
       " 'asn_type': 'None',\n",
       " 'code_version': '0.7.1.beta5',\n",
       " 'products': [{'members': [{'expname': 'dispersed_ramp_from_test.fits',\n",
       "     'exptype': 'SCIENCE'},\n",
       "    {'expname': 'test_disperse_f335m_rate_updated_bboxradecskybox_short.ecsv',\n",
       "     'exptype': 'sourcecat'}],\n",
       "   'name': 'test_disperse_f335m'}],\n",
       " 'program': 'none',\n",
       " 'target': 'singleton',\n",
       " 'version_id': None}"
      ]
     },
     "execution_count": 21,
     "metadata": {},
     "output_type": "execute_result"
    }
   ],
   "source": [
    "grism_fits.close()\n",
    "l2a.close()\n",
    "asn_data"
   ]
  },
  {
   "cell_type": "code",
   "execution_count": 19,
   "metadata": {
    "collapsed": false,
    "scrolled": true
   },
   "outputs": [
    {
     "data": {
      "text/plain": [
       "{'asn_pool': 'dummy',\n",
       " 'asn_rule': 'DMSLevel2bBase',\n",
       " 'asn_type': 'None',\n",
       " 'code_version': '0.7.1.beta5',\n",
       " 'products': [{'members': [{'expname': 'jw11111001001_01104_00001_nrcalong_rate.fits',\n",
       "     'exptype': 'SCIENCE'},\n",
       "    {'expname': 'test_disperse_f335m_rate_updated_bboxradecskybox_short.ecsv',\n",
       "     'exptype': 'sourcecat'}],\n",
       "   'name': 'test_disperse_f335m'}],\n",
       " 'program': 'none',\n",
       " 'target': 'singleton',\n",
       " 'version_id': None}"
      ]
     },
     "execution_count": 19,
     "metadata": {},
     "output_type": "execute_result"
    }
   ],
   "source": [
    "# update the name of the science image\n",
    "asn_data['products'][0]['members'][0]['expname'] = newname\n",
    "asn_data"
   ]
  },
  {
   "cell_type": "code",
   "execution_count": 20,
   "metadata": {
    "collapsed": false
   },
   "outputs": [
    {
     "data": {
      "text/plain": [
       "'jw11111001001_01104_00001_nrcalong_cat.ecsv'"
      ]
     },
     "execution_count": 20,
     "metadata": {},
     "output_type": "execute_result"
    }
   ],
   "source": [
    "# rename the catalog file to match the direct image science exposure, we don't need the name of the direct image here\n",
    "# I'm just going to use the name of the grism image with the _cat extension\n",
    "old_catalog = asn_data['products'][0]['members'][1]['expname']\n",
    "catalog_name = 'jw11111001001_01104_00001_nrcalong_cat.ecsv'\n",
    "asn_data['products'][0]['members'][1]['expname'] = catalog_name\n",
    "copy2(old_catalog, catalog_name)"
   ]
  },
  {
   "cell_type": "code",
   "execution_count": 21,
   "metadata": {
    "collapsed": false
   },
   "outputs": [
    {
     "data": {
      "text/plain": [
       "{'asn_pool': 'dummy',\n",
       " 'asn_rule': 'DMSLevel2bBase',\n",
       " 'asn_type': 'None',\n",
       " 'code_version': '0.7.1.beta5',\n",
       " 'products': [{'members': [{'expname': 'jw11111001001_01104_00001_nrcalong_rate.fits',\n",
       "     'exptype': 'SCIENCE'},\n",
       "    {'expname': 'jw11111001001_01104_00001_nrcalong_cat.ecsv',\n",
       "     'exptype': 'sourcecat'}],\n",
       "   'name': 'jw11111001001_01104_00001'}],\n",
       " 'program': 'none',\n",
       " 'target': 'singleton',\n",
       " 'version_id': None}"
      ]
     },
     "execution_count": 21,
     "metadata": {},
     "output_type": "execute_result"
    }
   ],
   "source": [
    "# update the rootname\n",
    "asn_data['products'][0]['name'] = '_'.join(asn_data['products'][0]['members'][1]['expname'].split('_')[0:3])\n",
    "asn_data"
   ]
  },
  {
   "cell_type": "code",
   "execution_count": 22,
   "metadata": {
    "collapsed": true
   },
   "outputs": [],
   "source": [
    "# set the code version\n",
    "asn_data['code_version'] = '0.7.8rc9'"
   ]
  },
  {
   "cell_type": "code",
   "execution_count": 23,
   "metadata": {
    "collapsed": false
   },
   "outputs": [
    {
     "data": {
      "text/plain": [
       "{'asn_pool': 'dummy',\n",
       " 'asn_rule': 'DMSLevel2bBase',\n",
       " 'asn_type': 'None',\n",
       " 'code_version': '0.7.8rc9',\n",
       " 'products': [{'members': [{'expname': 'jw11111001001_01104_00001_nrcalong_rate.fits',\n",
       "     'exptype': 'SCIENCE'},\n",
       "    {'expname': 'jw11111001001_01104_00001_nrcalong_cat.ecsv',\n",
       "     'exptype': 'sourcecat'}],\n",
       "   'name': 'jw11111001001_01104_00001'}],\n",
       " 'program': 'none',\n",
       " 'target': 'singleton',\n",
       " 'version_id': None}"
      ]
     },
     "execution_count": 23,
     "metadata": {},
     "output_type": "execute_result"
    }
   ],
   "source": [
    "asn_data"
   ]
  },
  {
   "cell_type": "markdown",
   "metadata": {},
   "source": [
    "Docs: http://ssb.stsci.edu/doc/jwst_dev/jwst/associations/level2_asn_technical.html#\n",
    "\n",
    "The naming convention for the association table is as follows:\n",
    "\n",
    "jwPPPPP-TNNNN_YYYYMMDDtHHMMSS_ATYPE_MMM_asn.json\n",
    "\n",
    "    jw: All JWST-related products begin with jw\n",
    "    PPPPP: 5 digit proposal number\n",
    "    TNNNN: Canididat Identifier. Can be one of the following:\n",
    "        oNNN: Observation candidate specified by the letter o followed by a 3 digit number.\n",
    "        c1NNN: Association candidate, specified by the letter ‘c’, followed by a number starting at 1001.\n",
    "        a3NNN: Discovered whole program associations, specified by the letter ‘a’, followed by a number starting at 3001\n",
    "        rNNNN: Reserverd for future use. If you see this in practice, file an issue to have this document updated.\n",
    "    YYYYMMDDtHHMMSS: This is generically referred to as the version_id. A timestamp provided the DMS workflow. Note: When used outside the workflow, this field is user-specifiable.\n",
    "    ATYPE: The type of association. See level3-asn-association-types (spec2 I think)\n",
    "    MMM: A counter for each type of association created.\n"
   ]
  },
  {
   "cell_type": "code",
   "execution_count": 24,
   "metadata": {
    "collapsed": true
   },
   "outputs": [],
   "source": [
    "# write out the new asn file\n",
    "new_asn_name = 'jw111110-a3001_20171109T145456_spec2_001_asn.json'\n",
    "with open(new_asn_name, 'w') as f:\n",
    "    json.dump(asn_data, f)"
   ]
  },
  {
   "cell_type": "code",
   "execution_count": null,
   "metadata": {
    "collapsed": true
   },
   "outputs": [],
   "source": []
  }
 ],
 "metadata": {
  "anaconda-cloud": {},
  "kernelspec": {
   "display_name": "Python [default]",
   "language": "python",
   "name": "python3"
  },
  "language_info": {
   "codemirror_mode": {
    "name": "ipython",
    "version": 3
   },
   "file_extension": ".py",
   "mimetype": "text/x-python",
   "name": "python",
   "nbconvert_exporter": "python",
   "pygments_lexer": "ipython3",
   "version": "3.5.2"
  }
 },
 "nbformat": 4,
 "nbformat_minor": 2
}

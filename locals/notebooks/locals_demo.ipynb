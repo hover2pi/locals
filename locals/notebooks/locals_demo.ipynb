{
 "cells": [
  {
   "cell_type": "markdown",
   "metadata": {},
   "source": [
    "# How to use `locals`\n",
    "`locals` is a pure Python package that ingests JWST Wide-Field Slitless Spectroscopy data and returns a source catalog of all the low-mass stars in the field along with their calculated fundamental and secondary parameters.\n",
    "\n",
    "### Requirements\n",
    "- pip install SEDkit\n",
    "- pip install bokeh"
   ]
  },
  {
   "cell_type": "code",
   "execution_count": 25,
   "metadata": {
    "collapsed": false
   },
   "outputs": [
    {
     "data": {
      "text/html": [
       "\n",
       "    <div class=\"bk-root\">\n",
       "        <a href=\"http://bokeh.pydata.org\" target=\"_blank\" class=\"bk-logo bk-logo-small bk-logo-notebook\"></a>\n",
       "        <span id=\"a98b066e-4dc6-4abd-94db-046ab8438171\">Loading BokehJS ...</span>\n",
       "    </div>"
      ]
     },
     "metadata": {},
     "output_type": "display_data"
    },
    {
     "data": {
      "application/javascript": [
       "\n",
       "(function(global) {\n",
       "  function now() {\n",
       "    return new Date();\n",
       "  }\n",
       "\n",
       "  var force = true;\n",
       "\n",
       "  if (typeof (window._bokeh_onload_callbacks) === \"undefined\" || force === true) {\n",
       "    window._bokeh_onload_callbacks = [];\n",
       "    window._bokeh_is_loading = undefined;\n",
       "  }\n",
       "\n",
       "\n",
       "  \n",
       "  if (typeof (window._bokeh_timeout) === \"undefined\" || force === true) {\n",
       "    window._bokeh_timeout = Date.now() + 5000;\n",
       "    window._bokeh_failed_load = false;\n",
       "  }\n",
       "\n",
       "  var NB_LOAD_WARNING = {'data': {'text/html':\n",
       "     \"<div style='background-color: #fdd'>\\n\"+\n",
       "     \"<p>\\n\"+\n",
       "     \"BokehJS does not appear to have successfully loaded. If loading BokehJS from CDN, this \\n\"+\n",
       "     \"may be due to a slow or bad network connection. Possible fixes:\\n\"+\n",
       "     \"</p>\\n\"+\n",
       "     \"<ul>\\n\"+\n",
       "     \"<li>re-rerun `output_notebook()` to attempt to load from CDN again, or</li>\\n\"+\n",
       "     \"<li>use INLINE resources instead, as so:</li>\\n\"+\n",
       "     \"</ul>\\n\"+\n",
       "     \"<code>\\n\"+\n",
       "     \"from bokeh.resources import INLINE\\n\"+\n",
       "     \"output_notebook(resources=INLINE)\\n\"+\n",
       "     \"</code>\\n\"+\n",
       "     \"</div>\"}};\n",
       "\n",
       "  function display_loaded() {\n",
       "    if (window.Bokeh !== undefined) {\n",
       "      var el = document.getElementById(\"a98b066e-4dc6-4abd-94db-046ab8438171\");\n",
       "      el.textContent = \"BokehJS \" + Bokeh.version + \" successfully loaded.\";\n",
       "    } else if (Date.now() < window._bokeh_timeout) {\n",
       "      setTimeout(display_loaded, 100)\n",
       "    }\n",
       "  }\n",
       "\n",
       "  function run_callbacks() {\n",
       "    try {\n",
       "      window._bokeh_onload_callbacks.forEach(function(callback) { callback() });\n",
       "    }\n",
       "    finally {\n",
       "      delete window._bokeh_onload_callbacks\n",
       "    }\n",
       "    console.info(\"Bokeh: all callbacks have finished\");\n",
       "  }\n",
       "\n",
       "  function load_libs(js_urls, callback) {\n",
       "    window._bokeh_onload_callbacks.push(callback);\n",
       "    if (window._bokeh_is_loading > 0) {\n",
       "      console.log(\"Bokeh: BokehJS is being loaded, scheduling callback at\", now());\n",
       "      return null;\n",
       "    }\n",
       "    if (js_urls == null || js_urls.length === 0) {\n",
       "      run_callbacks();\n",
       "      return null;\n",
       "    }\n",
       "    console.log(\"Bokeh: BokehJS not loaded, scheduling load and callback at\", now());\n",
       "    window._bokeh_is_loading = js_urls.length;\n",
       "    for (var i = 0; i < js_urls.length; i++) {\n",
       "      var url = js_urls[i];\n",
       "      var s = document.createElement('script');\n",
       "      s.src = url;\n",
       "      s.async = false;\n",
       "      s.onreadystatechange = s.onload = function() {\n",
       "        window._bokeh_is_loading--;\n",
       "        if (window._bokeh_is_loading === 0) {\n",
       "          console.log(\"Bokeh: all BokehJS libraries loaded\");\n",
       "          run_callbacks()\n",
       "        }\n",
       "      };\n",
       "      s.onerror = function() {\n",
       "        console.warn(\"failed to load library \" + url);\n",
       "      };\n",
       "      console.log(\"Bokeh: injecting script tag for BokehJS library: \", url);\n",
       "      document.getElementsByTagName(\"head\")[0].appendChild(s);\n",
       "    }\n",
       "  };var element = document.getElementById(\"a98b066e-4dc6-4abd-94db-046ab8438171\");\n",
       "  if (element == null) {\n",
       "    console.log(\"Bokeh: ERROR: autoload.js configured with elementid 'a98b066e-4dc6-4abd-94db-046ab8438171' but no matching script tag was found. \")\n",
       "    return false;\n",
       "  }\n",
       "\n",
       "  var js_urls = [\"https://cdn.pydata.org/bokeh/release/bokeh-0.12.6.min.js\", \"https://cdn.pydata.org/bokeh/release/bokeh-widgets-0.12.6.min.js\"];\n",
       "\n",
       "  var inline_js = [\n",
       "    function(Bokeh) {\n",
       "      Bokeh.set_log_level(\"info\");\n",
       "    },\n",
       "    \n",
       "    function(Bokeh) {\n",
       "      \n",
       "    },\n",
       "    \n",
       "    function(Bokeh) {\n",
       "      \n",
       "      document.getElementById(\"a98b066e-4dc6-4abd-94db-046ab8438171\").textContent = \"BokehJS is loading...\";\n",
       "    },\n",
       "    function(Bokeh) {\n",
       "      console.log(\"Bokeh: injecting CSS: https://cdn.pydata.org/bokeh/release/bokeh-0.12.6.min.css\");\n",
       "      Bokeh.embed.inject_css(\"https://cdn.pydata.org/bokeh/release/bokeh-0.12.6.min.css\");\n",
       "      console.log(\"Bokeh: injecting CSS: https://cdn.pydata.org/bokeh/release/bokeh-widgets-0.12.6.min.css\");\n",
       "      Bokeh.embed.inject_css(\"https://cdn.pydata.org/bokeh/release/bokeh-widgets-0.12.6.min.css\");\n",
       "    }\n",
       "  ];\n",
       "\n",
       "  function run_inline_js() {\n",
       "    \n",
       "    if ((window.Bokeh !== undefined) || (force === true)) {\n",
       "      for (var i = 0; i < inline_js.length; i++) {\n",
       "        inline_js[i](window.Bokeh);\n",
       "      }if (force === true) {\n",
       "        display_loaded();\n",
       "      }} else if (Date.now() < window._bokeh_timeout) {\n",
       "      setTimeout(run_inline_js, 100);\n",
       "    } else if (!window._bokeh_failed_load) {\n",
       "      console.log(\"Bokeh: BokehJS failed to load within specified timeout.\");\n",
       "      window._bokeh_failed_load = true;\n",
       "    } else if (force !== true) {\n",
       "      var cell = $(document.getElementById(\"a98b066e-4dc6-4abd-94db-046ab8438171\")).parents('.cell').data().cell;\n",
       "      cell.output_area.append_execute_result(NB_LOAD_WARNING)\n",
       "    }\n",
       "\n",
       "  }\n",
       "\n",
       "  if (window._bokeh_is_loading === 0) {\n",
       "    console.log(\"Bokeh: BokehJS loaded, going straight to plotting\");\n",
       "    run_inline_js();\n",
       "  } else {\n",
       "    load_libs(js_urls, function() {\n",
       "      console.log(\"Bokeh: BokehJS plotting callback run at\", now());\n",
       "      run_inline_js();\n",
       "    });\n",
       "  }\n",
       "}(this));"
      ]
     },
     "metadata": {},
     "output_type": "display_data"
    }
   ],
   "source": [
    "# Imports\n",
    "from locals import source, catalog\n",
    "from SEDkit import sed, spectrum, synphot\n",
    "import astropy.units as q\n",
    "import astropy.table as at\n",
    "import numpy as np\n",
    "from pkg_resources import resource_filename\n",
    "from bokeh.io import output_notebook, show\n",
    "output_notebook()"
   ]
  },
  {
   "cell_type": "markdown",
   "metadata": {},
   "source": [
    "## Making an SED for a single source (no WFSS spectra)"
   ]
  },
  {
   "cell_type": "markdown",
   "metadata": {},
   "source": [
    "For each spectrum in our WFSS data products, a `Source` object is created. `locals` then searches Vizier to find ancillary photometry, parallaxes, and spectral types. Then it assembles an SED from the available data and calculates fundamental and atmospheric parameters.\n",
    "\n",
    "Let's pretend one of the brown dwarfs in our field is [LHS2924](http://simbad.u-strasbg.fr/simbad/sim-id?Ident=LHS2924&NbIdent=1&Radius=2&Radius.unit=arcmin&submit=submit+id). Here is what `locals` is doing for each source under the hood."
   ]
  },
  {
   "cell_type": "code",
   "execution_count": 26,
   "metadata": {
    "collapsed": false
   },
   "outputs": [
    {
     "name": "stdout",
     "output_type": "stream",
     "text": [
      "Setting age to (<Quantity 6.0 Gyr>, <Quantity 4.0 Gyr>)\n",
      "Setting radius to (<Quantity 0.10127179992838364 solRad>, <Quantity 0.02008219196144978 solRad>)\n",
      "1 2MASS records found.\n",
      "1 WISE records found.\n",
      "\n",
      "   band          eff         app_magnitude ...      abs_flux_unc      bandpass\n",
      "                 um                       ... erg / (Angstrom cm2 s)         \n",
      "-------- ------------------ ------------- ... ---------------------- --------\n",
      "  Gaia.G 0.6597013110557894       16.6299 ...                    0.0   Gaia.G\n",
      " 2MASS.J 1.2393093155660664 11.9899997711 ... 2.6782632688510406e-17  2MASS.J\n",
      " 2MASS.H 1.6494947091246095 11.2250003815 ... 2.3139101841398836e-17  2MASS.H\n",
      "2MASS.Ks  2.163860596453316 10.7440004349 ... 1.3684444634813076e-17 2MASS.Ks\n",
      " WISE.W1 3.3897048577485647 10.4280004501 ...  3.543992004006416e-18  WISE.W1\n",
      " WISE.W2    4.6406356615375 10.1619997025 ... 1.3561312900080802e-18  WISE.W2\n",
      " WISE.W3 12.567593607521216 9.64599990845 ...  7.026240830733788e-20  WISE.W3\n",
      " WISE.W4 22.314225592308713 9.43700027466 ...   7.62677792182739e-20  WISE.W4 \n",
      "\n"
     ]
    }
   ],
   "source": [
    "# Coordinates of LHS 2924 (Usually taken from the WFSS source_list)\n",
    "ra = 217.180137*q.deg\n",
    "dec = 33.177539*q.deg\n",
    "\n",
    "# Make the source object\n",
    "src = source.Source(ra=ra, dec=dec, name='LHS 2924', spectral_type='L3.5')\n",
    "\n",
    "# Find some photometry\n",
    "src.find_2MASS()\n",
    "src.find_WISE()\n",
    "\n",
    "# Find a distance from Gaia DR2\n",
    "src.find_Gaia()\n",
    "\n",
    "# Take a look\n",
    "print('\\n',src.photometry,'\\n')"
   ]
  },
  {
   "cell_type": "markdown",
   "metadata": {},
   "source": [
    "Now we can calculate the fundamental parameters and plot the results."
   ]
  },
  {
   "cell_type": "code",
   "execution_count": 27,
   "metadata": {
    "collapsed": false
   },
   "outputs": [
    {
     "data": {
      "text/html": [
       "<i>Table length=15</i>\n",
       "<table id=\"table4815372696\" class=\"table-striped table-bordered table-condensed\">\n",
       "<thead><tr><th>param</th><th>value</th><th>unc</th><th>units</th></tr></thead>\n",
       "<thead><tr><th>object</th><th>object</th><th>object</th><th>object</th></tr></thead>\n",
       "<tr><td>name</td><td>LHS 2924</td><td>--</td><td>--</td></tr>\n",
       "<tr><td>age</td><td>6.0</td><td>4.0</td><td>Gyr</td></tr>\n",
       "<tr><td>distance</td><td>10.99</td><td>0.02</td><td>pc</td></tr>\n",
       "<tr><td>parallax</td><td>90.9962</td><td>0.12710000574588776</td><td>mas</td></tr>\n",
       "<tr><td>radius</td><td>0.10127179992838364</td><td>0.02008219196144978</td><td>solRad</td></tr>\n",
       "<tr><td>spectral_type</td><td>73.5</td><td>0.5</td><td>--</td></tr>\n",
       "<tr><td>membership</td><td>--</td><td>--</td><td>--</td></tr>\n",
       "<tr><td>fbol</td><td>6.95e-11</td><td>7.89e-13</td><td>erg / (cm2 s)</td></tr>\n",
       "<tr><td>mbol</td><td>13.913</td><td>0.012</td><td>--</td></tr>\n",
       "<tr><td>Lbol</td><td>1e+30</td><td>1.2e+28</td><td>erg / s</td></tr>\n",
       "<tr><td>Lbol_sun</td><td>-3.58</td><td>0.005</td><td>--</td></tr>\n",
       "<tr><td>Mbol</td><td>13.708</td><td>0.012</td><td>--</td></tr>\n",
       "<tr><td>logg</td><td>4.5</td><td>0.07</td><td>--</td></tr>\n",
       "<tr><td>mass</td><td>0.8896913720017506</td><td>0.0</td><td>solMass</td></tr>\n",
       "<tr><td>Teff</td><td>2308</td><td>228</td><td>K</td></tr>\n",
       "</table>"
      ],
      "text/plain": [
       "<Table length=15>\n",
       "    param            value                unc             units    \n",
       "    object           object              object           object   \n",
       "------------- ------------------- ------------------- -------------\n",
       "         name            LHS 2924                  --            --\n",
       "          age                 6.0                 4.0           Gyr\n",
       "     distance               10.99                0.02            pc\n",
       "     parallax             90.9962 0.12710000574588776           mas\n",
       "       radius 0.10127179992838364 0.02008219196144978        solRad\n",
       "spectral_type                73.5                 0.5            --\n",
       "   membership                  --                  --            --\n",
       "         fbol            6.95e-11            7.89e-13 erg / (cm2 s)\n",
       "         mbol              13.913               0.012            --\n",
       "         Lbol               1e+30             1.2e+28       erg / s\n",
       "     Lbol_sun               -3.58               0.005            --\n",
       "         Mbol              13.708               0.012            --\n",
       "         logg                 4.5                0.07            --\n",
       "         mass  0.8896913720017506                 0.0       solMass\n",
       "         Teff                2308                 228             K"
      ]
     },
     "execution_count": 27,
     "metadata": {},
     "output_type": "execute_result"
    }
   ],
   "source": [
    "src.results"
   ]
  },
  {
   "cell_type": "code",
   "execution_count": 28,
   "metadata": {
    "collapsed": false
   },
   "outputs": [
    {
     "data": {
      "text/html": [
       "\n",
       "\n",
       "    <div class=\"bk-root\">\n",
       "        <div class=\"bk-plotdiv\" id=\"443f1590-b6fe-4b3b-84fd-e7b176c8e97d\"></div>\n",
       "    </div>\n",
       "<script type=\"text/javascript\">\n",
       "  \n",
       "  (function(global) {\n",
       "    function now() {\n",
       "      return new Date();\n",
       "    }\n",
       "  \n",
       "    var force = false;\n",
       "  \n",
       "    if (typeof (window._bokeh_onload_callbacks) === \"undefined\" || force === true) {\n",
       "      window._bokeh_onload_callbacks = [];\n",
       "      window._bokeh_is_loading = undefined;\n",
       "    }\n",
       "  \n",
       "  \n",
       "    \n",
       "    if (typeof (window._bokeh_timeout) === \"undefined\" || force === true) {\n",
       "      window._bokeh_timeout = Date.now() + 0;\n",
       "      window._bokeh_failed_load = false;\n",
       "    }\n",
       "  \n",
       "    var NB_LOAD_WARNING = {'data': {'text/html':\n",
       "       \"<div style='background-color: #fdd'>\\n\"+\n",
       "       \"<p>\\n\"+\n",
       "       \"BokehJS does not appear to have successfully loaded. If loading BokehJS from CDN, this \\n\"+\n",
       "       \"may be due to a slow or bad network connection. Possible fixes:\\n\"+\n",
       "       \"</p>\\n\"+\n",
       "       \"<ul>\\n\"+\n",
       "       \"<li>re-rerun `output_notebook()` to attempt to load from CDN again, or</li>\\n\"+\n",
       "       \"<li>use INLINE resources instead, as so:</li>\\n\"+\n",
       "       \"</ul>\\n\"+\n",
       "       \"<code>\\n\"+\n",
       "       \"from bokeh.resources import INLINE\\n\"+\n",
       "       \"output_notebook(resources=INLINE)\\n\"+\n",
       "       \"</code>\\n\"+\n",
       "       \"</div>\"}};\n",
       "  \n",
       "    function display_loaded() {\n",
       "      if (window.Bokeh !== undefined) {\n",
       "        var el = document.getElementById(\"443f1590-b6fe-4b3b-84fd-e7b176c8e97d\");\n",
       "        el.textContent = \"BokehJS \" + Bokeh.version + \" successfully loaded.\";\n",
       "      } else if (Date.now() < window._bokeh_timeout) {\n",
       "        setTimeout(display_loaded, 100)\n",
       "      }\n",
       "    }\n",
       "  \n",
       "    function run_callbacks() {\n",
       "      try {\n",
       "        window._bokeh_onload_callbacks.forEach(function(callback) { callback() });\n",
       "      }\n",
       "      finally {\n",
       "        delete window._bokeh_onload_callbacks\n",
       "      }\n",
       "      console.info(\"Bokeh: all callbacks have finished\");\n",
       "    }\n",
       "  \n",
       "    function load_libs(js_urls, callback) {\n",
       "      window._bokeh_onload_callbacks.push(callback);\n",
       "      if (window._bokeh_is_loading > 0) {\n",
       "        console.log(\"Bokeh: BokehJS is being loaded, scheduling callback at\", now());\n",
       "        return null;\n",
       "      }\n",
       "      if (js_urls == null || js_urls.length === 0) {\n",
       "        run_callbacks();\n",
       "        return null;\n",
       "      }\n",
       "      console.log(\"Bokeh: BokehJS not loaded, scheduling load and callback at\", now());\n",
       "      window._bokeh_is_loading = js_urls.length;\n",
       "      for (var i = 0; i < js_urls.length; i++) {\n",
       "        var url = js_urls[i];\n",
       "        var s = document.createElement('script');\n",
       "        s.src = url;\n",
       "        s.async = false;\n",
       "        s.onreadystatechange = s.onload = function() {\n",
       "          window._bokeh_is_loading--;\n",
       "          if (window._bokeh_is_loading === 0) {\n",
       "            console.log(\"Bokeh: all BokehJS libraries loaded\");\n",
       "            run_callbacks()\n",
       "          }\n",
       "        };\n",
       "        s.onerror = function() {\n",
       "          console.warn(\"failed to load library \" + url);\n",
       "        };\n",
       "        console.log(\"Bokeh: injecting script tag for BokehJS library: \", url);\n",
       "        document.getElementsByTagName(\"head\")[0].appendChild(s);\n",
       "      }\n",
       "    };var element = document.getElementById(\"443f1590-b6fe-4b3b-84fd-e7b176c8e97d\");\n",
       "    if (element == null) {\n",
       "      console.log(\"Bokeh: ERROR: autoload.js configured with elementid '443f1590-b6fe-4b3b-84fd-e7b176c8e97d' but no matching script tag was found. \")\n",
       "      return false;\n",
       "    }\n",
       "  \n",
       "    var js_urls = [];\n",
       "  \n",
       "    var inline_js = [\n",
       "      function(Bokeh) {\n",
       "        (function() {\n",
       "          var fn = function() {\n",
       "            var docs_json = {\"81037351-2753-4575-8252-296fa0a02262\":{\"roots\":{\"references\":[{\"attributes\":{\"below\":[{\"id\":\"e48ebd0c-ad0e-4b1b-98ff-141e0dc002cc\",\"type\":\"LogAxis\"}],\"left\":[{\"id\":\"048b1b57-b0bb-4a8a-a4d1-57552adda370\",\"type\":\"LogAxis\"}],\"plot_height\":500,\"plot_width\":800,\"renderers\":[{\"id\":\"e48ebd0c-ad0e-4b1b-98ff-141e0dc002cc\",\"type\":\"LogAxis\"},{\"id\":\"be1610f7-c8c6-40db-96b7-5d0be9d5486e\",\"type\":\"Grid\"},{\"id\":\"048b1b57-b0bb-4a8a-a4d1-57552adda370\",\"type\":\"LogAxis\"},{\"id\":\"07ab1541-a733-4dc3-aec4-b43ee49f9b1b\",\"type\":\"Grid\"},{\"id\":\"7fa313cb-9a63-40cc-b81f-354056d86019\",\"type\":\"BoxAnnotation\"},{\"id\":\"4c19b0b3-6c78-4923-ad90-fdcc43b7b1f8\",\"type\":\"Legend\"},{\"id\":\"ce3c3c03-3566-481c-8f62-475f8b58f9c3\",\"type\":\"GlyphRenderer\"},{\"id\":\"3f2ff061-7bf9-430a-a850-71065861cd78\",\"type\":\"GlyphRenderer\"}],\"title\":{\"id\":\"bc468f8d-e930-4962-82c8-de0fe5800830\",\"type\":\"Title\"},\"tool_events\":{\"id\":\"6a8b2f72-bac9-400f-b2d1-5ea9086b1aa1\",\"type\":\"ToolEvents\"},\"toolbar\":{\"id\":\"5697747e-46ec-4553-bfc2-e0a65d528d08\",\"type\":\"Toolbar\"},\"x_range\":{\"id\":\"d3f09113-6c96-4b48-8b00-5f219d95df8b\",\"type\":\"Range1d\"},\"x_scale\":{\"id\":\"0fb7deb6-ce85-4c4f-93d9-175dae54fbf7\",\"type\":\"LogScale\"},\"y_range\":{\"id\":\"f827da10-f2d7-4598-b9ae-997038664556\",\"type\":\"Range1d\"},\"y_scale\":{\"id\":\"c1428dab-5488-4177-858f-c9642d2b6579\",\"type\":\"LogScale\"}},\"id\":\"f9febbee-b92f-4ea5-a0de-70073558868b\",\"subtype\":\"Figure\",\"type\":\"Plot\"},{\"attributes\":{},\"id\":\"0fb7deb6-ce85-4c4f-93d9-175dae54fbf7\",\"type\":\"LogScale\"},{\"attributes\":{\"plot\":null,\"text\":\"LHS 2924\"},\"id\":\"bc468f8d-e930-4962-82c8-de0fe5800830\",\"type\":\"Title\"},{\"attributes\":{\"axis_label\":\"Wavelength [um]\",\"formatter\":{\"id\":\"4e3610ea-e7c6-4bbc-85b5-971b3c63106a\",\"type\":\"LogTickFormatter\"},\"plot\":{\"id\":\"f9febbee-b92f-4ea5-a0de-70073558868b\",\"subtype\":\"Figure\",\"type\":\"Plot\"},\"ticker\":{\"id\":\"20c6db86-6f1a-45d6-9863-13001f8f0aa4\",\"type\":\"LogTicker\"}},\"id\":\"e48ebd0c-ad0e-4b1b-98ff-141e0dc002cc\",\"type\":\"LogAxis\"},{\"attributes\":{},\"id\":\"c1428dab-5488-4177-858f-c9642d2b6579\",\"type\":\"LogScale\"},{\"attributes\":{\"num_minor_ticks\":10},\"id\":\"20c6db86-6f1a-45d6-9863-13001f8f0aa4\",\"type\":\"LogTicker\"},{\"attributes\":{\"fill_alpha\":{\"value\":0.1},\"fill_color\":{\"value\":\"#1f77b4\"},\"line_alpha\":{\"value\":0.1},\"line_color\":{\"value\":\"#1f77b4\"},\"size\":{\"units\":\"screen\",\"value\":8},\"x\":{\"field\":\"x\"},\"y\":{\"field\":\"y\"}},\"id\":\"30111b72-403d-4d46-9fdd-cb9e3920c0f9\",\"type\":\"Circle\"},{\"attributes\":{\"callback\":null,\"column_names\":[\"z\",\"x\",\"y\",\"desc\"],\"data\":{\"desc\":[],\"x\":{\"__ndarray__\":\"\",\"dtype\":\"float64\",\"shape\":[0]},\"y\":{\"__ndarray__\":\"\",\"dtype\":\"float64\",\"shape\":[0]},\"z\":{\"__ndarray__\":\"\",\"dtype\":\"float64\",\"shape\":[0]}}},\"id\":\"b19f9637-282e-4127-8860-308c36c2b10f\",\"type\":\"ColumnDataSource\"},{\"attributes\":{\"plot\":{\"id\":\"f9febbee-b92f-4ea5-a0de-70073558868b\",\"subtype\":\"Figure\",\"type\":\"Plot\"}},\"id\":\"b650298a-61fe-4899-89f1-143eec3e22fa\",\"type\":\"SaveTool\"},{\"attributes\":{\"active_drag\":\"auto\",\"active_inspect\":\"auto\",\"active_scroll\":\"auto\",\"active_tap\":\"auto\",\"tools\":[{\"id\":\"52e3432f-6b81-467a-8cbb-4a01640b8dce\",\"type\":\"PanTool\"},{\"id\":\"64f4af17-2983-4fc6-a844-272bab1bca75\",\"type\":\"ResizeTool\"},{\"id\":\"0a21308f-ec16-47a7-b610-e857dc930088\",\"type\":\"ResetTool\"},{\"id\":\"e9912c7f-1376-46d9-b52b-660fd5015f39\",\"type\":\"BoxZoomTool\"},{\"id\":\"b650298a-61fe-4899-89f1-143eec3e22fa\",\"type\":\"SaveTool\"},{\"id\":\"d51c9d46-df27-4a30-8255-4dc31697c592\",\"type\":\"HoverTool\"}]},\"id\":\"5697747e-46ec-4553-bfc2-e0a65d528d08\",\"type\":\"Toolbar\"},{\"attributes\":{\"num_minor_ticks\":10},\"id\":\"93fe3e5f-0737-43d1-b279-792d932ce20c\",\"type\":\"LogTicker\"},{\"attributes\":{\"ticker\":null},\"id\":\"dcd86a63-83c8-4d34-9bc6-625613ad7d1a\",\"type\":\"LogTickFormatter\"},{\"attributes\":{\"callback\":null,\"end\":9.953588422046295e-15,\"start\":4.228526487885257e-19},\"id\":\"f827da10-f2d7-4598-b9ae-997038664556\",\"type\":\"Range1d\"},{\"attributes\":{\"data_source\":{\"id\":\"78aec8b1-a80a-45b3-94e9-ad09a65cdb77\",\"type\":\"ColumnDataSource\"},\"glyph\":{\"id\":\"642460ff-4612-45dd-bedd-eb17b8ff5797\",\"type\":\"Circle\"},\"hover_glyph\":null,\"muted_glyph\":null,\"name\":\"photometry\",\"nonselection_glyph\":{\"id\":\"c18736c3-609d-4f27-b805-b5c384c36786\",\"type\":\"Circle\"},\"selection_glyph\":null},\"id\":\"ce3c3c03-3566-481c-8f62-475f8b58f9c3\",\"type\":\"GlyphRenderer\"},{\"attributes\":{\"plot\":{\"id\":\"f9febbee-b92f-4ea5-a0de-70073558868b\",\"subtype\":\"Figure\",\"type\":\"Plot\"}},\"id\":\"52e3432f-6b81-467a-8cbb-4a01640b8dce\",\"type\":\"PanTool\"},{\"attributes\":{\"label\":{\"value\":\"Photometry\"},\"renderers\":[{\"id\":\"ce3c3c03-3566-481c-8f62-475f8b58f9c3\",\"type\":\"GlyphRenderer\"}]},\"id\":\"3bf9c960-c6e2-45d4-992c-ea4e93568012\",\"type\":\"LegendItem\"},{\"attributes\":{\"callback\":null,\"column_names\":[\"z\",\"x\",\"y\",\"desc\"],\"data\":{\"desc\":[\"b'Gaia.G'\",\"b'2MASS.J'\",\"b'2MASS.H'\",\"b'2MASS.Ks'\",\"b'WISE.W1'\",\"b'WISE.W2'\",\"b'WISE.W3'\",\"b'WISE.W4'\"],\"x\":{\"__ndarray__\":\"Mp2D7EUc5T8ZwD8BNtTzP/zXaZBUZPo/2/X2JJZPAUC2+piUHR4LQM7Re8sCkBJAz3EboZsiKUA7iKIWcVA2QA==\",\"dtype\":\"float64\",\"shape\":[8]},\"y\":{\"__ndarray__\":\"iWRURdlcvzz+1Mli2mn2PHpCvOxhcfA8mfIS2TRh4zyV9JSXTp7DPPY58X3dr608w998yt80YzzDN6fwdTMvPA==\",\"dtype\":\"float64\",\"shape\":[8]},\"z\":{\"__ndarray__\":\"+Cq1OWS/ETzjvsHxtr6bPHiW3eOuG5w8ff+y7qhqizzKZgH2AXFpPDQ90nrUf1E840Ur7fRgFDyid75/+RcfPA==\",\"dtype\":\"float64\",\"shape\":[8]}}},\"id\":\"78aec8b1-a80a-45b3-94e9-ad09a65cdb77\",\"type\":\"ColumnDataSource\"},{\"attributes\":{\"fill_alpha\":{\"value\":0},\"fill_color\":{\"value\":\"#1f77b4\"},\"line_color\":{\"value\":\"#1f77b4\"},\"size\":{\"units\":\"screen\",\"value\":8},\"x\":{\"field\":\"x\"},\"y\":{\"field\":\"y\"}},\"id\":\"d5037948-c153-4114-8392-681220c61ed3\",\"type\":\"Circle\"},{\"attributes\":{\"plot\":{\"id\":\"f9febbee-b92f-4ea5-a0de-70073558868b\",\"subtype\":\"Figure\",\"type\":\"Plot\"}},\"id\":\"64f4af17-2983-4fc6-a844-272bab1bca75\",\"type\":\"ResizeTool\"},{\"attributes\":{\"dimension\":1,\"plot\":{\"id\":\"f9febbee-b92f-4ea5-a0de-70073558868b\",\"subtype\":\"Figure\",\"type\":\"Plot\"},\"ticker\":{\"id\":\"93fe3e5f-0737-43d1-b279-792d932ce20c\",\"type\":\"LogTicker\"}},\"id\":\"07ab1541-a733-4dc3-aec4-b43ee49f9b1b\",\"type\":\"Grid\"},{\"attributes\":{\"axis_label\":\"Flux Density [erg / (Angstrom cm2 s)]\",\"formatter\":{\"id\":\"dcd86a63-83c8-4d34-9bc6-625613ad7d1a\",\"type\":\"LogTickFormatter\"},\"plot\":{\"id\":\"f9febbee-b92f-4ea5-a0de-70073558868b\",\"subtype\":\"Figure\",\"type\":\"Plot\"},\"ticker\":{\"id\":\"93fe3e5f-0737-43d1-b279-792d932ce20c\",\"type\":\"LogTicker\"}},\"id\":\"048b1b57-b0bb-4a8a-a4d1-57552adda370\",\"type\":\"LogAxis\"},{\"attributes\":{\"label\":{\"value\":\"Nondetection\"},\"renderers\":[{\"id\":\"3f2ff061-7bf9-430a-a850-71065861cd78\",\"type\":\"GlyphRenderer\"}]},\"id\":\"52fe6f72-6cdb-4f09-907e-adae4b5373bd\",\"type\":\"LegendItem\"},{\"attributes\":{\"ticker\":null},\"id\":\"4e3610ea-e7c6-4bbc-85b5-971b3c63106a\",\"type\":\"LogTickFormatter\"},{\"attributes\":{\"plot\":{\"id\":\"f9febbee-b92f-4ea5-a0de-70073558868b\",\"subtype\":\"Figure\",\"type\":\"Plot\"},\"ticker\":{\"id\":\"20c6db86-6f1a-45d6-9863-13001f8f0aa4\",\"type\":\"LogTicker\"}},\"id\":\"be1610f7-c8c6-40db-96b7-5d0be9d5486e\",\"type\":\"Grid\"},{\"attributes\":{\"plot\":{\"id\":\"f9febbee-b92f-4ea5-a0de-70073558868b\",\"subtype\":\"Figure\",\"type\":\"Plot\"}},\"id\":\"0a21308f-ec16-47a7-b610-e857dc930088\",\"type\":\"ResetTool\"},{\"attributes\":{\"click_policy\":\"hide\",\"items\":[{\"id\":\"3bf9c960-c6e2-45d4-992c-ea4e93568012\",\"type\":\"LegendItem\"},{\"id\":\"52fe6f72-6cdb-4f09-907e-adae4b5373bd\",\"type\":\"LegendItem\"}],\"plot\":{\"id\":\"f9febbee-b92f-4ea5-a0de-70073558868b\",\"subtype\":\"Figure\",\"type\":\"Plot\"}},\"id\":\"4c19b0b3-6c78-4923-ad90-fdcc43b7b1f8\",\"type\":\"Legend\"},{\"attributes\":{\"overlay\":{\"id\":\"7fa313cb-9a63-40cc-b81f-354056d86019\",\"type\":\"BoxAnnotation\"},\"plot\":{\"id\":\"f9febbee-b92f-4ea5-a0de-70073558868b\",\"subtype\":\"Figure\",\"type\":\"Plot\"}},\"id\":\"e9912c7f-1376-46d9-b52b-660fd5015f39\",\"type\":\"BoxZoomTool\"},{\"attributes\":{\"callback\":null,\"end\":26.777070710770456,\"start\":0.24},\"id\":\"d3f09113-6c96-4b48-8b00-5f219d95df8b\",\"type\":\"Range1d\"},{\"attributes\":{\"bottom_units\":\"screen\",\"fill_alpha\":{\"value\":0.5},\"fill_color\":{\"value\":\"lightgrey\"},\"left_units\":\"screen\",\"level\":\"overlay\",\"line_alpha\":{\"value\":1.0},\"line_color\":{\"value\":\"black\"},\"line_dash\":[4,4],\"line_width\":{\"value\":2},\"plot\":null,\"render_mode\":\"css\",\"right_units\":\"screen\",\"top_units\":\"screen\"},\"id\":\"7fa313cb-9a63-40cc-b81f-354056d86019\",\"type\":\"BoxAnnotation\"},{\"attributes\":{\"fill_alpha\":{\"value\":0.1},\"fill_color\":{\"value\":\"#1f77b4\"},\"line_alpha\":{\"value\":0.1},\"line_color\":{\"value\":\"#1f77b4\"},\"size\":{\"units\":\"screen\",\"value\":8},\"x\":{\"field\":\"x\"},\"y\":{\"field\":\"y\"}},\"id\":\"c18736c3-609d-4f27-b805-b5c384c36786\",\"type\":\"Circle\"},{\"attributes\":{},\"id\":\"6a8b2f72-bac9-400f-b2d1-5ea9086b1aa1\",\"type\":\"ToolEvents\"},{\"attributes\":{\"fill_alpha\":{\"value\":0.7},\"fill_color\":{\"value\":\"#1f77b4\"},\"line_color\":{\"value\":\"#1f77b4\"},\"size\":{\"units\":\"screen\",\"value\":8},\"x\":{\"field\":\"x\"},\"y\":{\"field\":\"y\"}},\"id\":\"642460ff-4612-45dd-bedd-eb17b8ff5797\",\"type\":\"Circle\"},{\"attributes\":{\"callback\":null,\"mode\":\"vline\",\"names\":[\"photometry\",\"nondetection\"],\"plot\":{\"id\":\"f9febbee-b92f-4ea5-a0de-70073558868b\",\"subtype\":\"Figure\",\"type\":\"Plot\"},\"tooltips\":[[\"Band\",\"@desc\"],[\"Wave\",\"@x\"],[\"Flux\",\"@y\"],[\"Unc\",\"@z\"]]},\"id\":\"d51c9d46-df27-4a30-8255-4dc31697c592\",\"type\":\"HoverTool\"},{\"attributes\":{\"data_source\":{\"id\":\"b19f9637-282e-4127-8860-308c36c2b10f\",\"type\":\"ColumnDataSource\"},\"glyph\":{\"id\":\"d5037948-c153-4114-8392-681220c61ed3\",\"type\":\"Circle\"},\"hover_glyph\":null,\"muted_glyph\":null,\"name\":\"nondetection\",\"nonselection_glyph\":{\"id\":\"30111b72-403d-4d46-9fdd-cb9e3920c0f9\",\"type\":\"Circle\"},\"selection_glyph\":null},\"id\":\"3f2ff061-7bf9-430a-a850-71065861cd78\",\"type\":\"GlyphRenderer\"}],\"root_ids\":[\"f9febbee-b92f-4ea5-a0de-70073558868b\"]},\"title\":\"Bokeh Application\",\"version\":\"0.12.6\"}};\n",
       "            var render_items = [{\"docid\":\"81037351-2753-4575-8252-296fa0a02262\",\"elementid\":\"443f1590-b6fe-4b3b-84fd-e7b176c8e97d\",\"modelid\":\"f9febbee-b92f-4ea5-a0de-70073558868b\"}];\n",
       "            \n",
       "            Bokeh.embed.embed_items(docs_json, render_items);\n",
       "          };\n",
       "          if (document.readyState != \"loading\") fn();\n",
       "          else document.addEventListener(\"DOMContentLoaded\", fn);\n",
       "        })();\n",
       "      },\n",
       "      function(Bokeh) {\n",
       "      }\n",
       "    ];\n",
       "  \n",
       "    function run_inline_js() {\n",
       "      \n",
       "      if ((window.Bokeh !== undefined) || (force === true)) {\n",
       "        for (var i = 0; i < inline_js.length; i++) {\n",
       "          inline_js[i](window.Bokeh);\n",
       "        }if (force === true) {\n",
       "          display_loaded();\n",
       "        }} else if (Date.now() < window._bokeh_timeout) {\n",
       "        setTimeout(run_inline_js, 100);\n",
       "      } else if (!window._bokeh_failed_load) {\n",
       "        console.log(\"Bokeh: BokehJS failed to load within specified timeout.\");\n",
       "        window._bokeh_failed_load = true;\n",
       "      } else if (force !== true) {\n",
       "        var cell = $(document.getElementById(\"443f1590-b6fe-4b3b-84fd-e7b176c8e97d\")).parents('.cell').data().cell;\n",
       "        cell.output_area.append_execute_result(NB_LOAD_WARNING)\n",
       "      }\n",
       "  \n",
       "    }\n",
       "  \n",
       "    if (window._bokeh_is_loading === 0) {\n",
       "      console.log(\"Bokeh: BokehJS loaded, going straight to plotting\");\n",
       "      run_inline_js();\n",
       "    } else {\n",
       "      load_libs(js_urls, function() {\n",
       "        console.log(\"Bokeh: BokehJS plotting callback run at\", now());\n",
       "        run_inline_js();\n",
       "      });\n",
       "    }\n",
       "  }(this));\n",
       "</script>"
      ]
     },
     "metadata": {},
     "output_type": "display_data"
    }
   ],
   "source": [
    "fig = src.plot()"
   ]
  },
  {
   "cell_type": "markdown",
   "metadata": {},
   "source": [
    "## Make SEDs for all sources in the WFSS field\n",
    "Now that we see the output of a single source, we can run this on the entire `SourceCatalog` generated from the WFSS output. The difference here is that a WFSS spectrum will be included in each `Source`."
   ]
  },
  {
   "cell_type": "code",
   "execution_count": 29,
   "metadata": {
    "collapsed": false
   },
   "outputs": [
    {
     "name": "stdout",
     "output_type": "stream",
     "text": [
      "Setting age to (<Quantity 6.0 Gyr>, <Quantity 4.0 Gyr>)\n",
      "1 2MASS records found.\n",
      "1 WISE records found.\n",
      "Setting age to (<Quantity 6.0 Gyr>, <Quantity 4.0 Gyr>)\n",
      "1 2MASS records found.\n",
      "1 WISE records found.\n"
     ]
    }
   ],
   "source": [
    "# Path to the JWST pipeline output directory\n",
    "cat_path = resource_filename('locals', 'data/wfss/')\n",
    "\n",
    "# Initialize empty source catalog\n",
    "cat = catalog.SourceCatalog(cat_path)"
   ]
  },
  {
   "cell_type": "markdown",
   "metadata": {},
   "source": [
    "Let's see the source list of all objects in this catalog."
   ]
  },
  {
   "cell_type": "code",
   "execution_count": 30,
   "metadata": {
    "collapsed": false
   },
   "outputs": [
    {
     "data": {
      "text/html": [
       "<i>Table length=2</i>\n",
       "<table id=\"table4815364280\" class=\"table-striped table-bordered table-condensed\">\n",
       "<thead><tr><th>id</th><th>xcentroid</th><th>ycentroid</th><th>ra_icrs_centroid</th><th>dec_icrs_centroid</th><th>xmin</th><th>xmax</th><th>ymin</th><th>ymax</th><th>abmag</th><th>abmag_error</th><th>sky_bbox_ll</th><th>sky_bbox_ur</th><th>sky_bbox_lr</th><th>sky_bbox_ul</th><th>icrs_centroid</th></tr></thead>\n",
       "<thead><tr><th></th><th>pix</th><th>pix</th><th></th><th></th><th>pix</th><th>pix</th><th>pix</th><th>pix</th><th></th><th></th><th>deg,deg</th><th>deg,deg</th><th>deg,deg</th><th>deg,deg</th><th>deg,deg</th></tr></thead>\n",
       "<thead><tr><th>int64</th><th>float64</th><th>float64</th><th>object</th><th>object</th><th>float64</th><th>float64</th><th>float64</th><th>float64</th><th>int64</th><th>float64</th><th>object</th><th>object</th><th>object</th><th>object</th><th>object</th></tr></thead>\n",
       "<tr><td>10</td><td>1023.89938168</td><td>1023.19367348</td><td>-3.4283850489866588e-06</td><td>-2.694720849093827e-06</td><td>940.0</td><td>1107.0</td><td>943.0</td><td>1106.0</td><td>9</td><td>0.0816191841269</td><td>0.000729834375136,-0.000694686445181</td><td>359.999270901,0.000711962615737</td><td>0.000729834375136,-0.000694686445181</td><td>359.999270901,0.000711962615737</td><td>89.7455,-29.05744</td></tr>\n",
       "<tr><td>13</td><td>1023.89938168</td><td>1023.19367348</td><td>-3.4283850489866588e-06</td><td>-2.694720849093827e-06</td><td>940.0</td><td>1107.0</td><td>943.0</td><td>1106.0</td><td>9</td><td>0.0816191841269</td><td>0.000729834375136,-0.000694686445181</td><td>359.999270901,0.000711962615737</td><td>0.000729834375136,-0.000694686445181</td><td>359.999270901,0.000711962615737</td><td>217.180137,33.177539</td></tr>\n",
       "</table>"
      ],
      "text/plain": [
       "<Table length=2>\n",
       "  id    xcentroid   ...           sky_bbox_ul              icrs_centroid    \n",
       "           pix      ...             deg,deg                   deg,deg       \n",
       "int64    float64    ...              object                    object       \n",
       "----- ------------- ... ------------------------------- --------------------\n",
       "   10 1023.89938168 ... 359.999270901,0.000711962615737    89.7455,-29.05744\n",
       "   13 1023.89938168 ... 359.999270901,0.000711962615737 217.180137,33.177539"
      ]
     },
     "execution_count": 30,
     "metadata": {},
     "output_type": "execute_result"
    }
   ],
   "source": [
    "cat.source_list"
   ]
  },
  {
   "cell_type": "markdown",
   "metadata": {},
   "source": [
    "# TODO: color cuts"
   ]
  },
  {
   "cell_type": "markdown",
   "metadata": {},
   "source": [
    "All the sources are stored as `Source` instances within the `SourceCatalog.sources` attribute. \n",
    "\n",
    "For example, LHS 2924 is part of this catalog so let's make sure we get the same results as when it is run individually."
   ]
  },
  {
   "cell_type": "code",
   "execution_count": 32,
   "metadata": {
    "collapsed": false
   },
   "outputs": [
    {
     "name": "stdout",
     "output_type": "stream",
     "text": [
      "    param           value                unc             units    \n",
      "------------- ------------------ ------------------- -------------\n",
      "         name          Source 13                  --            --\n",
      "          age                6.0                 4.0           Gyr\n",
      "     distance              10.99                0.02            pc\n",
      "     parallax            90.9962 0.12710000574588776           mas\n",
      "       radius              0.101                0.02        solRad\n",
      "spectral_type                 --                  --            --\n",
      "   membership                 --                  --            --\n",
      "         fbol           6.82e-11            4.53e-13 erg / (cm2 s)\n",
      "         mbol             13.933               0.007            --\n",
      "         Lbol           9.86e+29            7.47e+27       erg / s\n",
      "     Lbol_sun              -3.59               0.003            --\n",
      "         Mbol             13.728               0.007            --\n",
      "         logg                4.5                0.07            --\n",
      "         mass 0.8896913720017506                 0.0       solMass\n",
      "         Teff               2300                 227             K\n"
     ]
    },
    {
     "data": {
      "text/html": [
       "\n",
       "\n",
       "    <div class=\"bk-root\">\n",
       "        <div class=\"bk-plotdiv\" id=\"e0a815ac-6d29-4411-a608-548c0eeeb288\"></div>\n",
       "    </div>\n",
       "<script type=\"text/javascript\">\n",
       "  \n",
       "  (function(global) {\n",
       "    function now() {\n",
       "      return new Date();\n",
       "    }\n",
       "  \n",
       "    var force = false;\n",
       "  \n",
       "    if (typeof (window._bokeh_onload_callbacks) === \"undefined\" || force === true) {\n",
       "      window._bokeh_onload_callbacks = [];\n",
       "      window._bokeh_is_loading = undefined;\n",
       "    }\n",
       "  \n",
       "  \n",
       "    \n",
       "    if (typeof (window._bokeh_timeout) === \"undefined\" || force === true) {\n",
       "      window._bokeh_timeout = Date.now() + 0;\n",
       "      window._bokeh_failed_load = false;\n",
       "    }\n",
       "  \n",
       "    var NB_LOAD_WARNING = {'data': {'text/html':\n",
       "       \"<div style='background-color: #fdd'>\\n\"+\n",
       "       \"<p>\\n\"+\n",
       "       \"BokehJS does not appear to have successfully loaded. If loading BokehJS from CDN, this \\n\"+\n",
       "       \"may be due to a slow or bad network connection. Possible fixes:\\n\"+\n",
       "       \"</p>\\n\"+\n",
       "       \"<ul>\\n\"+\n",
       "       \"<li>re-rerun `output_notebook()` to attempt to load from CDN again, or</li>\\n\"+\n",
       "       \"<li>use INLINE resources instead, as so:</li>\\n\"+\n",
       "       \"</ul>\\n\"+\n",
       "       \"<code>\\n\"+\n",
       "       \"from bokeh.resources import INLINE\\n\"+\n",
       "       \"output_notebook(resources=INLINE)\\n\"+\n",
       "       \"</code>\\n\"+\n",
       "       \"</div>\"}};\n",
       "  \n",
       "    function display_loaded() {\n",
       "      if (window.Bokeh !== undefined) {\n",
       "        var el = document.getElementById(\"e0a815ac-6d29-4411-a608-548c0eeeb288\");\n",
       "        el.textContent = \"BokehJS \" + Bokeh.version + \" successfully loaded.\";\n",
       "      } else if (Date.now() < window._bokeh_timeout) {\n",
       "        setTimeout(display_loaded, 100)\n",
       "      }\n",
       "    }\n",
       "  \n",
       "    function run_callbacks() {\n",
       "      try {\n",
       "        window._bokeh_onload_callbacks.forEach(function(callback) { callback() });\n",
       "      }\n",
       "      finally {\n",
       "        delete window._bokeh_onload_callbacks\n",
       "      }\n",
       "      console.info(\"Bokeh: all callbacks have finished\");\n",
       "    }\n",
       "  \n",
       "    function load_libs(js_urls, callback) {\n",
       "      window._bokeh_onload_callbacks.push(callback);\n",
       "      if (window._bokeh_is_loading > 0) {\n",
       "        console.log(\"Bokeh: BokehJS is being loaded, scheduling callback at\", now());\n",
       "        return null;\n",
       "      }\n",
       "      if (js_urls == null || js_urls.length === 0) {\n",
       "        run_callbacks();\n",
       "        return null;\n",
       "      }\n",
       "      console.log(\"Bokeh: BokehJS not loaded, scheduling load and callback at\", now());\n",
       "      window._bokeh_is_loading = js_urls.length;\n",
       "      for (var i = 0; i < js_urls.length; i++) {\n",
       "        var url = js_urls[i];\n",
       "        var s = document.createElement('script');\n",
       "        s.src = url;\n",
       "        s.async = false;\n",
       "        s.onreadystatechange = s.onload = function() {\n",
       "          window._bokeh_is_loading--;\n",
       "          if (window._bokeh_is_loading === 0) {\n",
       "            console.log(\"Bokeh: all BokehJS libraries loaded\");\n",
       "            run_callbacks()\n",
       "          }\n",
       "        };\n",
       "        s.onerror = function() {\n",
       "          console.warn(\"failed to load library \" + url);\n",
       "        };\n",
       "        console.log(\"Bokeh: injecting script tag for BokehJS library: \", url);\n",
       "        document.getElementsByTagName(\"head\")[0].appendChild(s);\n",
       "      }\n",
       "    };var element = document.getElementById(\"e0a815ac-6d29-4411-a608-548c0eeeb288\");\n",
       "    if (element == null) {\n",
       "      console.log(\"Bokeh: ERROR: autoload.js configured with elementid 'e0a815ac-6d29-4411-a608-548c0eeeb288' but no matching script tag was found. \")\n",
       "      return false;\n",
       "    }\n",
       "  \n",
       "    var js_urls = [];\n",
       "  \n",
       "    var inline_js = [\n",
       "      function(Bokeh) {\n",
       "        (function() {\n",
       "          var fn = function() {\n",
       "            var docs_json = {\"8b43e2ab-d67d-46a6-b6b8-26d2d5fc5157\":{\"roots\":{\"references\":[{\"attributes\":{\"ticker\":null},\"id\":\"1546a2cb-3cbc-4d51-9811-7d66f216eb71\",\"type\":\"LogTickFormatter\"},{\"attributes\":{\"plot\":{\"id\":\"6e9a8a58-bd6e-4549-91de-1e75836168a7\",\"subtype\":\"Figure\",\"type\":\"Plot\"}},\"id\":\"66d9a190-d18b-47e5-8176-59eb74fd99a6\",\"type\":\"ResizeTool\"},{\"attributes\":{\"data_source\":{\"id\":\"a2d596c6-ce4b-4dd8-b54a-5dbac11bc114\",\"type\":\"ColumnDataSource\"},\"glyph\":{\"id\":\"f1aefe06-dfaa-4734-8194-83080861c26b\",\"type\":\"Circle\"},\"hover_glyph\":null,\"muted_glyph\":null,\"name\":\"nondetection\",\"nonselection_glyph\":{\"id\":\"13d194e1-1f4b-4e57-b194-bcc8bc0fcd9b\",\"type\":\"Circle\"},\"selection_glyph\":null},\"id\":\"856b97c7-a86a-4c87-ad1d-a6cbf0f7ad5e\",\"type\":\"GlyphRenderer\"},{\"attributes\":{\"callback\":null,\"end\":1.3049286247380186e-14,\"start\":4.228526487885257e-19},\"id\":\"64047c32-4338-421e-b0cc-f8d05922f070\",\"type\":\"Range1d\"},{\"attributes\":{\"plot\":null,\"text\":\"Source 13\"},\"id\":\"0b3e2c2d-5a3b-48d6-97eb-f1ead0d62fae\",\"type\":\"Title\"},{\"attributes\":{\"axis_label\":\"Flux Density [erg / (Angstrom cm2 s)]\",\"formatter\":{\"id\":\"70276f5b-9fdf-47f8-bdc5-7d2d84ce9885\",\"type\":\"LogTickFormatter\"},\"plot\":{\"id\":\"6e9a8a58-bd6e-4549-91de-1e75836168a7\",\"subtype\":\"Figure\",\"type\":\"Plot\"},\"ticker\":{\"id\":\"fe621280-ae56-4bbc-9d10-ac017833f5a4\",\"type\":\"LogTicker\"}},\"id\":\"6387f79b-cb26-4eca-97b0-f98c47adca05\",\"type\":\"LogAxis\"},{\"attributes\":{\"dimension\":1,\"plot\":{\"id\":\"6e9a8a58-bd6e-4549-91de-1e75836168a7\",\"subtype\":\"Figure\",\"type\":\"Plot\"},\"ticker\":{\"id\":\"fe621280-ae56-4bbc-9d10-ac017833f5a4\",\"type\":\"LogTicker\"}},\"id\":\"ae33b7c0-1ef9-4cb6-844a-30a25382305f\",\"type\":\"Grid\"},{\"attributes\":{\"callback\":null,\"column_names\":[\"z\",\"x\",\"y\",\"desc\"],\"data\":{\"desc\":[],\"x\":{\"__ndarray__\":\"\",\"dtype\":\"float64\",\"shape\":[0]},\"y\":{\"__ndarray__\":\"\",\"dtype\":\"float64\",\"shape\":[0]},\"z\":{\"__ndarray__\":\"\",\"dtype\":\"float64\",\"shape\":[0]}}},\"id\":\"a2d596c6-ce4b-4dd8-b54a-5dbac11bc114\",\"type\":\"ColumnDataSource\"},{\"attributes\":{\"ticker\":null},\"id\":\"70276f5b-9fdf-47f8-bdc5-7d2d84ce9885\",\"type\":\"LogTickFormatter\"},{\"attributes\":{\"plot\":{\"id\":\"6e9a8a58-bd6e-4549-91de-1e75836168a7\",\"subtype\":\"Figure\",\"type\":\"Plot\"}},\"id\":\"a785f26b-f160-46f9-afe4-54ad906fccf9\",\"type\":\"PanTool\"},{\"attributes\":{\"fill_alpha\":{\"value\":0.1},\"fill_color\":{\"value\":\"#1f77b4\"},\"line_alpha\":{\"value\":0.1},\"line_color\":{\"value\":\"#1f77b4\"},\"size\":{\"units\":\"screen\",\"value\":8},\"x\":{\"field\":\"x\"},\"y\":{\"field\":\"y\"}},\"id\":\"30276698-2806-4ec6-ae67-17dc9d129097\",\"type\":\"Circle\"},{\"attributes\":{\"overlay\":{\"id\":\"577fa80d-2849-4598-a38e-4f41aa61c295\",\"type\":\"BoxAnnotation\"},\"plot\":{\"id\":\"6e9a8a58-bd6e-4549-91de-1e75836168a7\",\"subtype\":\"Figure\",\"type\":\"Plot\"}},\"id\":\"1c46e125-5006-41cd-8c4e-d7e265d45f53\",\"type\":\"BoxZoomTool\"},{\"attributes\":{\"line_alpha\":{\"value\":0.1},\"line_color\":{\"value\":\"#1f77b4\"},\"x\":{\"field\":\"x\"},\"y\":{\"field\":\"y\"}},\"id\":\"c4399618-0a22-4f7e-ab1d-870850629dbe\",\"type\":\"Line\"},{\"attributes\":{\"line_color\":{\"value\":\"#1f77b4\"},\"x\":{\"field\":\"x\"},\"y\":{\"field\":\"y\"}},\"id\":\"97d31775-175e-4328-8082-d5211962f3e2\",\"type\":\"Line\"},{\"attributes\":{\"label\":{\"value\":\"Photometry\"},\"renderers\":[{\"id\":\"f9e6a538-8546-40ea-a187-3741252d6a2a\",\"type\":\"GlyphRenderer\"}]},\"id\":\"06ec2fda-fa49-4ef8-83e5-21ce76e3e2ed\",\"type\":\"LegendItem\"},{\"attributes\":{\"fill_alpha\":{\"value\":0.1},\"fill_color\":{\"value\":\"#1f77b4\"},\"line_alpha\":{\"value\":0.1},\"line_color\":{\"value\":\"#1f77b4\"},\"size\":{\"units\":\"screen\",\"value\":8},\"x\":{\"field\":\"x\"},\"y\":{\"field\":\"y\"}},\"id\":\"13d194e1-1f4b-4e57-b194-bcc8bc0fcd9b\",\"type\":\"Circle\"},{\"attributes\":{\"num_minor_ticks\":10},\"id\":\"fe621280-ae56-4bbc-9d10-ac017833f5a4\",\"type\":\"LogTicker\"},{\"attributes\":{\"plot\":{\"id\":\"6e9a8a58-bd6e-4549-91de-1e75836168a7\",\"subtype\":\"Figure\",\"type\":\"Plot\"}},\"id\":\"ea369d11-5478-4cee-80af-14f5a82415c5\",\"type\":\"ResetTool\"},{\"attributes\":{},\"id\":\"e2229a76-88ab-4d15-9d7c-391e94812fc2\",\"type\":\"LogScale\"},{\"attributes\":{\"bottom_units\":\"screen\",\"fill_alpha\":{\"value\":0.5},\"fill_color\":{\"value\":\"lightgrey\"},\"left_units\":\"screen\",\"level\":\"overlay\",\"line_alpha\":{\"value\":1.0},\"line_color\":{\"value\":\"black\"},\"line_dash\":[4,4],\"line_width\":{\"value\":2},\"plot\":null,\"render_mode\":\"css\",\"right_units\":\"screen\",\"top_units\":\"screen\"},\"id\":\"577fa80d-2849-4598-a38e-4f41aa61c295\",\"type\":\"BoxAnnotation\"},{\"attributes\":{\"data_source\":{\"id\":\"fa913011-b7d0-4cf3-a1a1-5d630068d864\",\"type\":\"ColumnDataSource\"},\"glyph\":{\"id\":\"97d31775-175e-4328-8082-d5211962f3e2\",\"type\":\"Line\"},\"hover_glyph\":null,\"muted_glyph\":null,\"nonselection_glyph\":{\"id\":\"c4399618-0a22-4f7e-ab1d-870850629dbe\",\"type\":\"Line\"},\"selection_glyph\":null},\"id\":\"7c2dba00-925e-4caa-ae89-c100eb8bfb24\",\"type\":\"GlyphRenderer\"},{\"attributes\":{\"callback\":null,\"column_names\":[\"x\",\"y\"],\"data\":{\"x\":{\"__ndarray__\":\"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\",\"dtype\":\"float32\",\"shape\":[546]},\"y\":{\"__ndarray__\":\"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\",\"dtype\":\"float64\",\"shape\":[546]}}},\"id\":\"fa913011-b7d0-4cf3-a1a1-5d630068d864\",\"type\":\"ColumnDataSource\"},{\"attributes\":{},\"id\":\"c2b54b3d-24be-4f23-be13-7c0c83cddae3\",\"type\":\"LogScale\"},{\"attributes\":{\"callback\":null,\"mode\":\"vline\",\"names\":[\"photometry\",\"nondetection\"],\"plot\":{\"id\":\"6e9a8a58-bd6e-4549-91de-1e75836168a7\",\"subtype\":\"Figure\",\"type\":\"Plot\"},\"tooltips\":[[\"Band\",\"@desc\"],[\"Wave\",\"@x\"],[\"Flux\",\"@y\"],[\"Unc\",\"@z\"]]},\"id\":\"45f87ff0-5906-4c60-8a7b-2aff219b3f9e\",\"type\":\"HoverTool\"},{\"attributes\":{\"label\":{\"value\":\"Spectra\"},\"renderers\":[{\"id\":\"7c2dba00-925e-4caa-ae89-c100eb8bfb24\",\"type\":\"GlyphRenderer\"}]},\"id\":\"41eca5b6-f2cb-4a33-97dd-0914f52ddef1\",\"type\":\"LegendItem\"},{\"attributes\":{\"callback\":null,\"column_names\":[\"z\",\"x\",\"y\",\"desc\"],\"data\":{\"desc\":[\"b'Gaia.G'\",\"b'2MASS.J'\",\"b'2MASS.H'\",\"b'2MASS.Ks'\",\"b'WISE.W1'\",\"b'WISE.W2'\",\"b'WISE.W3'\",\"b'WISE.W4'\"],\"x\":{\"__ndarray__\":\"Mp2D7EUc5T8ZwD8BNtTzP/zXaZBUZPo/2/X2JJZPAUC2+piUHR4LQM7Re8sCkBJAz3EboZsiKUA7iKIWcVA2QA==\",\"dtype\":\"float64\",\"shape\":[8]},\"y\":{\"__ndarray__\":\"iWRURdlcvzz+1Mli2mn2PHpCvOxhcfA8mfIS2TRh4zyV9JSXTp7DPPY58X3dr608w998yt80YzzDN6fwdTMvPA==\",\"dtype\":\"float64\",\"shape\":[8]},\"z\":{\"__ndarray__\":\"+Cq1OWS/ETzjvsHxtr6bPHiW3eOuG5w8ff+y7qhqizzKZgH2AXFpPDQ90nrUf1E840Ur7fRgFDyid75/+RcfPA==\",\"dtype\":\"float64\",\"shape\":[8]}}},\"id\":\"0841c7fd-f477-43ff-8481-b49107f4724e\",\"type\":\"ColumnDataSource\"},{\"attributes\":{\"callback\":null,\"end\":26.777070710770456,\"start\":0.5200151920318604},\"id\":\"d1d2330f-b088-4308-aa2c-ae4992e713ef\",\"type\":\"Range1d\"},{\"attributes\":{\"below\":[{\"id\":\"a642789a-e511-4559-97aa-3e048632e8dc\",\"type\":\"LogAxis\"}],\"left\":[{\"id\":\"6387f79b-cb26-4eca-97b0-f98c47adca05\",\"type\":\"LogAxis\"}],\"plot_height\":500,\"plot_width\":800,\"renderers\":[{\"id\":\"a642789a-e511-4559-97aa-3e048632e8dc\",\"type\":\"LogAxis\"},{\"id\":\"0c360bb8-7295-49f0-98dd-ec87813912c5\",\"type\":\"Grid\"},{\"id\":\"6387f79b-cb26-4eca-97b0-f98c47adca05\",\"type\":\"LogAxis\"},{\"id\":\"ae33b7c0-1ef9-4cb6-844a-30a25382305f\",\"type\":\"Grid\"},{\"id\":\"577fa80d-2849-4598-a38e-4f41aa61c295\",\"type\":\"BoxAnnotation\"},{\"id\":\"3c807052-4fb5-45ab-93ab-a8165a22268a\",\"type\":\"Legend\"},{\"id\":\"7c2dba00-925e-4caa-ae89-c100eb8bfb24\",\"type\":\"GlyphRenderer\"},{\"id\":\"f9e6a538-8546-40ea-a187-3741252d6a2a\",\"type\":\"GlyphRenderer\"},{\"id\":\"856b97c7-a86a-4c87-ad1d-a6cbf0f7ad5e\",\"type\":\"GlyphRenderer\"}],\"title\":{\"id\":\"0b3e2c2d-5a3b-48d6-97eb-f1ead0d62fae\",\"type\":\"Title\"},\"tool_events\":{\"id\":\"4deb81ed-64a4-4188-8bb0-92dd28dbbf3c\",\"type\":\"ToolEvents\"},\"toolbar\":{\"id\":\"26bc397d-7f3c-4701-9dd5-de2f10c85de3\",\"type\":\"Toolbar\"},\"x_range\":{\"id\":\"d1d2330f-b088-4308-aa2c-ae4992e713ef\",\"type\":\"Range1d\"},\"x_scale\":{\"id\":\"e2229a76-88ab-4d15-9d7c-391e94812fc2\",\"type\":\"LogScale\"},\"y_range\":{\"id\":\"64047c32-4338-421e-b0cc-f8d05922f070\",\"type\":\"Range1d\"},\"y_scale\":{\"id\":\"c2b54b3d-24be-4f23-be13-7c0c83cddae3\",\"type\":\"LogScale\"}},\"id\":\"6e9a8a58-bd6e-4549-91de-1e75836168a7\",\"subtype\":\"Figure\",\"type\":\"Plot\"},{\"attributes\":{\"num_minor_ticks\":10},\"id\":\"a53e0445-d7eb-4db7-af14-386af4bafe5a\",\"type\":\"LogTicker\"},{\"attributes\":{\"plot\":{\"id\":\"6e9a8a58-bd6e-4549-91de-1e75836168a7\",\"subtype\":\"Figure\",\"type\":\"Plot\"}},\"id\":\"fdea772e-a102-423a-863d-ecd544a03d27\",\"type\":\"SaveTool\"},{\"attributes\":{\"click_policy\":\"hide\",\"items\":[{\"id\":\"41eca5b6-f2cb-4a33-97dd-0914f52ddef1\",\"type\":\"LegendItem\"},{\"id\":\"06ec2fda-fa49-4ef8-83e5-21ce76e3e2ed\",\"type\":\"LegendItem\"},{\"id\":\"871ae8eb-14ec-4247-8a44-6248a5270c3f\",\"type\":\"LegendItem\"}],\"plot\":{\"id\":\"6e9a8a58-bd6e-4549-91de-1e75836168a7\",\"subtype\":\"Figure\",\"type\":\"Plot\"}},\"id\":\"3c807052-4fb5-45ab-93ab-a8165a22268a\",\"type\":\"Legend\"},{\"attributes\":{},\"id\":\"4deb81ed-64a4-4188-8bb0-92dd28dbbf3c\",\"type\":\"ToolEvents\"},{\"attributes\":{\"axis_label\":\"Wavelength [um]\",\"formatter\":{\"id\":\"1546a2cb-3cbc-4d51-9811-7d66f216eb71\",\"type\":\"LogTickFormatter\"},\"plot\":{\"id\":\"6e9a8a58-bd6e-4549-91de-1e75836168a7\",\"subtype\":\"Figure\",\"type\":\"Plot\"},\"ticker\":{\"id\":\"a53e0445-d7eb-4db7-af14-386af4bafe5a\",\"type\":\"LogTicker\"}},\"id\":\"a642789a-e511-4559-97aa-3e048632e8dc\",\"type\":\"LogAxis\"},{\"attributes\":{\"fill_alpha\":{\"value\":0.7},\"fill_color\":{\"value\":\"#1f77b4\"},\"line_color\":{\"value\":\"#1f77b4\"},\"size\":{\"units\":\"screen\",\"value\":8},\"x\":{\"field\":\"x\"},\"y\":{\"field\":\"y\"}},\"id\":\"b2ae0413-9837-415d-aedb-f59727ecf6cb\",\"type\":\"Circle\"},{\"attributes\":{\"label\":{\"value\":\"Nondetection\"},\"renderers\":[{\"id\":\"856b97c7-a86a-4c87-ad1d-a6cbf0f7ad5e\",\"type\":\"GlyphRenderer\"}]},\"id\":\"871ae8eb-14ec-4247-8a44-6248a5270c3f\",\"type\":\"LegendItem\"},{\"attributes\":{\"active_drag\":\"auto\",\"active_inspect\":\"auto\",\"active_scroll\":\"auto\",\"active_tap\":\"auto\",\"tools\":[{\"id\":\"a785f26b-f160-46f9-afe4-54ad906fccf9\",\"type\":\"PanTool\"},{\"id\":\"66d9a190-d18b-47e5-8176-59eb74fd99a6\",\"type\":\"ResizeTool\"},{\"id\":\"ea369d11-5478-4cee-80af-14f5a82415c5\",\"type\":\"ResetTool\"},{\"id\":\"1c46e125-5006-41cd-8c4e-d7e265d45f53\",\"type\":\"BoxZoomTool\"},{\"id\":\"fdea772e-a102-423a-863d-ecd544a03d27\",\"type\":\"SaveTool\"},{\"id\":\"45f87ff0-5906-4c60-8a7b-2aff219b3f9e\",\"type\":\"HoverTool\"}]},\"id\":\"26bc397d-7f3c-4701-9dd5-de2f10c85de3\",\"type\":\"Toolbar\"},{\"attributes\":{\"plot\":{\"id\":\"6e9a8a58-bd6e-4549-91de-1e75836168a7\",\"subtype\":\"Figure\",\"type\":\"Plot\"},\"ticker\":{\"id\":\"a53e0445-d7eb-4db7-af14-386af4bafe5a\",\"type\":\"LogTicker\"}},\"id\":\"0c360bb8-7295-49f0-98dd-ec87813912c5\",\"type\":\"Grid\"},{\"attributes\":{\"fill_alpha\":{\"value\":0},\"fill_color\":{\"value\":\"#1f77b4\"},\"line_color\":{\"value\":\"#1f77b4\"},\"size\":{\"units\":\"screen\",\"value\":8},\"x\":{\"field\":\"x\"},\"y\":{\"field\":\"y\"}},\"id\":\"f1aefe06-dfaa-4734-8194-83080861c26b\",\"type\":\"Circle\"},{\"attributes\":{\"data_source\":{\"id\":\"0841c7fd-f477-43ff-8481-b49107f4724e\",\"type\":\"ColumnDataSource\"},\"glyph\":{\"id\":\"b2ae0413-9837-415d-aedb-f59727ecf6cb\",\"type\":\"Circle\"},\"hover_glyph\":null,\"muted_glyph\":null,\"name\":\"photometry\",\"nonselection_glyph\":{\"id\":\"30276698-2806-4ec6-ae67-17dc9d129097\",\"type\":\"Circle\"},\"selection_glyph\":null},\"id\":\"f9e6a538-8546-40ea-a187-3741252d6a2a\",\"type\":\"GlyphRenderer\"}],\"root_ids\":[\"6e9a8a58-bd6e-4549-91de-1e75836168a7\"]},\"title\":\"Bokeh Application\",\"version\":\"0.12.6\"}};\n",
       "            var render_items = [{\"docid\":\"8b43e2ab-d67d-46a6-b6b8-26d2d5fc5157\",\"elementid\":\"e0a815ac-6d29-4411-a608-548c0eeeb288\",\"modelid\":\"6e9a8a58-bd6e-4549-91de-1e75836168a7\"}];\n",
       "            \n",
       "            Bokeh.embed.embed_items(docs_json, render_items);\n",
       "          };\n",
       "          if (document.readyState != \"loading\") fn();\n",
       "          else document.addEventListener(\"DOMContentLoaded\", fn);\n",
       "        })();\n",
       "      },\n",
       "      function(Bokeh) {\n",
       "      }\n",
       "    ];\n",
       "  \n",
       "    function run_inline_js() {\n",
       "      \n",
       "      if ((window.Bokeh !== undefined) || (force === true)) {\n",
       "        for (var i = 0; i < inline_js.length; i++) {\n",
       "          inline_js[i](window.Bokeh);\n",
       "        }if (force === true) {\n",
       "          display_loaded();\n",
       "        }} else if (Date.now() < window._bokeh_timeout) {\n",
       "        setTimeout(run_inline_js, 100);\n",
       "      } else if (!window._bokeh_failed_load) {\n",
       "        console.log(\"Bokeh: BokehJS failed to load within specified timeout.\");\n",
       "        window._bokeh_failed_load = true;\n",
       "      } else if (force !== true) {\n",
       "        var cell = $(document.getElementById(\"e0a815ac-6d29-4411-a608-548c0eeeb288\")).parents('.cell').data().cell;\n",
       "        cell.output_area.append_execute_result(NB_LOAD_WARNING)\n",
       "      }\n",
       "  \n",
       "    }\n",
       "  \n",
       "    if (window._bokeh_is_loading === 0) {\n",
       "      console.log(\"Bokeh: BokehJS loaded, going straight to plotting\");\n",
       "      run_inline_js();\n",
       "    } else {\n",
       "      load_libs(js_urls, function() {\n",
       "        console.log(\"Bokeh: BokehJS plotting callback run at\", now());\n",
       "        run_inline_js();\n",
       "      });\n",
       "    }\n",
       "  }(this));\n",
       "</script>"
      ]
     },
     "metadata": {},
     "output_type": "display_data"
    }
   ],
   "source": [
    "# Get the source instance\n",
    "lhs2924 = cat.sources[1]\n",
    "\n",
    "# Calculate the results\n",
    "print(lhs2924.results)\n",
    "\n",
    "# Plot it\n",
    "fig = lhs2924.plot()"
   ]
  },
  {
   "cell_type": "markdown",
   "metadata": {},
   "source": [
    "Hooray!\n",
    "\n",
    "Let's take a look at the other one, 2MASS 0558-2903, an extreme subdwarf M7."
   ]
  },
  {
   "cell_type": "code",
   "execution_count": 33,
   "metadata": {
    "collapsed": false
   },
   "outputs": [
    {
     "name": "stdout",
     "output_type": "stream",
     "text": [
      "Setting radius to (<Quantity 0.11 solRad>, <Quantity 0.01 solRad>)\n"
     ]
    },
    {
     "ename": "TypeError",
     "evalue": "'NoneType' object is not subscriptable",
     "output_type": "error",
     "traceback": [
      "\u001b[0;31m---------------------------------------------------------------------------\u001b[0m",
      "\u001b[0;31mTypeError\u001b[0m                                 Traceback (most recent call last)",
      "\u001b[0;32m<ipython-input-33-fe553749e6a6>\u001b[0m in \u001b[0;36m<module>\u001b[0;34m()\u001b[0m\n\u001b[1;32m      1\u001b[0m \u001b[0;31m# Get the source instance\u001b[0m\u001b[0;34m\u001b[0m\u001b[0;34m\u001b[0m\u001b[0m\n\u001b[1;32m      2\u001b[0m \u001b[0msubdwarf\u001b[0m \u001b[0;34m=\u001b[0m \u001b[0mcat\u001b[0m\u001b[0;34m.\u001b[0m\u001b[0msources\u001b[0m\u001b[0;34m[\u001b[0m\u001b[0;36m0\u001b[0m\u001b[0;34m]\u001b[0m\u001b[0;34m\u001b[0m\u001b[0m\n\u001b[0;32m----> 3\u001b[0;31m \u001b[0msubdwarf\u001b[0m\u001b[0;34m.\u001b[0m\u001b[0mradius\u001b[0m \u001b[0;34m=\u001b[0m \u001b[0;36m0.11\u001b[0m\u001b[0;34m*\u001b[0m\u001b[0mq\u001b[0m\u001b[0;34m.\u001b[0m\u001b[0mR_sun\u001b[0m\u001b[0;34m,\u001b[0m \u001b[0;36m0.01\u001b[0m\u001b[0;34m*\u001b[0m\u001b[0mq\u001b[0m\u001b[0;34m.\u001b[0m\u001b[0mR_sun\u001b[0m\u001b[0;34m\u001b[0m\u001b[0m\n\u001b[0m\u001b[1;32m      4\u001b[0m \u001b[0;34m\u001b[0m\u001b[0m\n\u001b[1;32m      5\u001b[0m \u001b[0;31m# Calculate the results\u001b[0m\u001b[0;34m\u001b[0m\u001b[0;34m\u001b[0m\u001b[0m\n",
      "\u001b[0;32m/Users/jfilippazzo/Documents/Modules/SEDkit/SEDkit/sed.py\u001b[0m in \u001b[0;36mradius\u001b[0;34m(self, radius)\u001b[0m\n\u001b[1;32m   1262\u001b[0m \u001b[0;34m\u001b[0m\u001b[0m\n\u001b[1;32m   1263\u001b[0m         \u001b[0;31m# Update the things that depend on radius!\u001b[0m\u001b[0;34m\u001b[0m\u001b[0;34m\u001b[0m\u001b[0m\n\u001b[0;32m-> 1264\u001b[0;31m         \u001b[0mself\u001b[0m\u001b[0;34m.\u001b[0m\u001b[0mget_Teff\u001b[0m\u001b[0;34m(\u001b[0m\u001b[0;34m)\u001b[0m\u001b[0;34m\u001b[0m\u001b[0m\n\u001b[0m\u001b[1;32m   1265\u001b[0m \u001b[0;34m\u001b[0m\u001b[0m\n\u001b[1;32m   1266\u001b[0m         \u001b[0;31m# Set SED as uncalculated\u001b[0m\u001b[0;34m\u001b[0m\u001b[0;34m\u001b[0m\u001b[0m\n",
      "\u001b[0;32m/Users/jfilippazzo/Documents/Modules/SEDkit/SEDkit/sed.py\u001b[0m in \u001b[0;36mget_Teff\u001b[0;34m(self)\u001b[0m\n\u001b[1;32m    920\u001b[0m         \u001b[0;31m# Calculate Teff\u001b[0m\u001b[0;34m\u001b[0m\u001b[0;34m\u001b[0m\u001b[0m\n\u001b[1;32m    921\u001b[0m         \u001b[0;32mif\u001b[0m \u001b[0mself\u001b[0m\u001b[0;34m.\u001b[0m\u001b[0mdistance\u001b[0m \u001b[0;32mis\u001b[0m \u001b[0;32mnot\u001b[0m \u001b[0;32mNone\u001b[0m \u001b[0;32mand\u001b[0m \u001b[0mself\u001b[0m\u001b[0;34m.\u001b[0m\u001b[0mradius\u001b[0m \u001b[0;32mis\u001b[0m \u001b[0;32mnot\u001b[0m \u001b[0;32mNone\u001b[0m\u001b[0;34m:\u001b[0m\u001b[0;34m\u001b[0m\u001b[0m\n\u001b[0;32m--> 922\u001b[0;31m             \u001b[0mTeff\u001b[0m \u001b[0;34m=\u001b[0m \u001b[0mnp\u001b[0m\u001b[0;34m.\u001b[0m\u001b[0msqrt\u001b[0m\u001b[0;34m(\u001b[0m\u001b[0mnp\u001b[0m\u001b[0;34m.\u001b[0m\u001b[0msqrt\u001b[0m\u001b[0;34m(\u001b[0m\u001b[0;34m(\u001b[0m\u001b[0mself\u001b[0m\u001b[0;34m.\u001b[0m\u001b[0mLbol\u001b[0m\u001b[0;34m[\u001b[0m\u001b[0;36m0\u001b[0m\u001b[0;34m]\u001b[0m\u001b[0;34m/\u001b[0m\u001b[0;34m(\u001b[0m\u001b[0;36m4\u001b[0m\u001b[0;34m*\u001b[0m\u001b[0mnp\u001b[0m\u001b[0;34m.\u001b[0m\u001b[0mpi\u001b[0m\u001b[0;34m*\u001b[0m\u001b[0mac\u001b[0m\u001b[0;34m.\u001b[0m\u001b[0msigma_sb\u001b[0m\u001b[0;34m*\u001b[0m\u001b[0mself\u001b[0m\u001b[0;34m.\u001b[0m\u001b[0mradius\u001b[0m\u001b[0;34m[\u001b[0m\u001b[0;36m0\u001b[0m\u001b[0;34m]\u001b[0m\u001b[0;34m**\u001b[0m\u001b[0;36m2\u001b[0m\u001b[0;34m)\u001b[0m\u001b[0;34m)\u001b[0m\u001b[0;34m.\u001b[0m\u001b[0mto\u001b[0m\u001b[0;34m(\u001b[0m\u001b[0mq\u001b[0m\u001b[0;34m.\u001b[0m\u001b[0mK\u001b[0m\u001b[0;34m**\u001b[0m\u001b[0;36m4\u001b[0m\u001b[0;34m)\u001b[0m\u001b[0;34m)\u001b[0m\u001b[0;34m)\u001b[0m\u001b[0;34m.\u001b[0m\u001b[0mastype\u001b[0m\u001b[0;34m(\u001b[0m\u001b[0mint\u001b[0m\u001b[0;34m)\u001b[0m\u001b[0;34m\u001b[0m\u001b[0m\n\u001b[0m\u001b[1;32m    923\u001b[0m \u001b[0;34m\u001b[0m\u001b[0m\n\u001b[1;32m    924\u001b[0m             \u001b[0;31m# Calculate Teff_unc\u001b[0m\u001b[0;34m\u001b[0m\u001b[0;34m\u001b[0m\u001b[0m\n",
      "\u001b[0;31mTypeError\u001b[0m: 'NoneType' object is not subscriptable"
     ]
    }
   ],
   "source": [
    "# Get the source instance\n",
    "subdwarf = cat.sources[0]\n",
    "subdwarf.radius = 0.11*q.R_sun, 0.01*q.R_sun\n",
    "\n",
    "# Calculate the results\n",
    "print(subdwarf.results)\n",
    "\n",
    "# Plot it\n",
    "fig = subdwarf.plot()"
   ]
  },
  {
   "cell_type": "markdown",
   "metadata": {},
   "source": [
    "Fantastic!\n",
    "\n",
    "Let's see a table of the results."
   ]
  },
  {
   "cell_type": "code",
   "execution_count": 20,
   "metadata": {
    "collapsed": false
   },
   "outputs": [
    {
     "data": {
      "text/html": [
       "<i>Table length=2</i>\n",
       "<table id=\"table4784219640\" class=\"table-striped table-bordered table-condensed\">\n",
       "<thead><tr><th>name</th><th>age [Gyr]</th><th>distance [pc]</th><th>parallax [mas]</th><th>radius [solRad]</th><th>spectral_type [--]</th><th>membership [--]</th><th>fbol [erg / (cm2 s)]</th><th>mbol [--]</th><th>Lbol [erg / s]</th><th>Lbol_sun [--]</th><th>Mbol [--]</th><th>logg [--]</th><th>mass [solMass]</th><th>Teff [K]</th></tr></thead>\n",
       "<thead><tr><th>str31</th><th>str31</th><th>str31</th><th>str31</th><th>str31</th><th>str31</th><th>str31</th><th>str31</th><th>str31</th><th>str31</th><th>str31</th><th>str31</th><th>str31</th><th>str31</th><th>str31</th></tr></thead>\n",
       "<tr><td>Source 10</td><td>6.0 +/- 4.0</td><td>79.19 +/- 0.68</td><td>12.6276 +/- 0.10779999941587448</td><td>0.11 +/- 0.01</td><td>--</td><td>--</td><td>3.48e-12 +/- 1.89e-14</td><td>17.164 +/- 0.006</td><td>2.61e+30 +/- 4.7e+28</td><td>-3.17 +/- 0.008</td><td>12.671 +/- 0.011</td><td>4.5 +/- 0.07</td><td>0.8896913720017506 +/- 0.0</td><td>2812 +/- 128</td></tr>\n",
       "<tr><td>Source 13</td><td>6.0 +/- 4.0</td><td>10.99 +/- 0.02</td><td>90.9962 +/- 0.12710000574588776</td><td>0.101 +/- 0.02</td><td>73.5 +/- 0.5</td><td>--</td><td>6.82e-11 +/- 4.53e-13</td><td>13.933 +/- 0.007</td><td>9.86e+29 +/- 7.47e+27</td><td>-3.59 +/- 0.003</td><td>13.728 +/- 0.007</td><td>4.5 +/- 0.07</td><td>0.8896913720017506 +/- 0.0</td><td>2300 +/- 227</td></tr>\n",
       "</table>"
      ],
      "text/plain": [
       "<Table length=2>\n",
       "   name    age [Gyr]  distance [pc]  ...       mass [solMass]         Teff [K]  \n",
       "  str31      str31        str31      ...           str31               str31    \n",
       "--------- ----------- -------------- ... -------------------------- ------------\n",
       "Source 10 6.0 +/- 4.0 79.19 +/- 0.68 ... 0.8896913720017506 +/- 0.0 2812 +/- 128\n",
       "Source 13 6.0 +/- 4.0 10.99 +/- 0.02 ... 0.8896913720017506 +/- 0.0 2300 +/- 227"
      ]
     },
     "execution_count": 20,
     "metadata": {},
     "output_type": "execute_result"
    }
   ],
   "source": [
    "cat.results"
   ]
  },
  {
   "cell_type": "code",
   "execution_count": null,
   "metadata": {
    "collapsed": true
   },
   "outputs": [],
   "source": []
  }
 ],
 "metadata": {
  "anaconda-cloud": {},
  "kernelspec": {
   "display_name": "Astroconda",
   "language": "python",
   "name": "astroconda_kernel"
  },
  "language_info": {
   "codemirror_mode": {
    "name": "ipython",
    "version": 3
   },
   "file_extension": ".py",
   "mimetype": "text/x-python",
   "name": "python",
   "nbconvert_exporter": "python",
   "pygments_lexer": "ipython3",
   "version": "3.5.2"
  }
 },
 "nbformat": 4,
 "nbformat_minor": 1
}
